{
 "cells": [
  {
   "cell_type": "code",
   "execution_count": 416,
   "id": "e4ec72b8",
   "metadata": {},
   "outputs": [],
   "source": [
    "import matplotlib as mpl\n",
    "import matplotlib.pyplot as plt\n",
    "%matplotlib inline \n",
    "from collections import Counter\n",
    "import pandas as pd\n",
    "import numpy as np\n",
    "import re\n",
    "import nltk\n",
    "from nltk.corpus import stopwords\n",
    "import matplotlib.pyplot as plt\n",
    "import seaborn as sns\n",
    "from matplotlib.pyplot import figure\n",
    "from collections import Counter\n",
    "from sklearn import model_selection\n",
    "from imblearn.over_sampling import RandomOverSampler\n",
    "from imblearn.under_sampling import RandomUnderSampler\n",
    "from sklearn.linear_model import LogisticRegression\n",
    "from sklearn.tree import DecisionTreeClassifier\n",
    "from sklearn.ensemble import GradientBoostingClassifier\n",
    "from sklearn.neighbors import KNeighborsClassifier\n",
    "from sklearn.discriminant_analysis import LinearDiscriminantAnalysis\n",
    "from sklearn.naive_bayes import GaussianNB, MultinomialNB\n",
    "from sklearn.svm import SVC\n",
    "from sklearn.datasets import make_classification\n",
    "from sklearn.model_selection import train_test_split, GridSearchCV\n",
    "from sklearn.feature_extraction.text import TfidfTransformer, CountVectorizer, TfidfVectorizer\n",
    "from sklearn.metrics import classification_report, confusion_matrix, accuracy_score, f1_score, recall_score, precision_score, roc_auc_score, roc_curve\n",
    "from sklearn.pipeline import Pipeline, make_pipeline\n",
    "from sklearn.preprocessing import LabelEncoder\n",
    "from nltk.stem import PorterStemmer\n",
    "from nltk.stem import LancasterStemmer\n",
    "from datetime import datetime\n",
    "from IPython import display\n",
    "from collections import Counter\n",
    "import imblearn\n",
    "from imblearn.over_sampling import SMOTE\n",
    "import pickle\n",
    "from collections import Counter\n",
    "from imblearn.under_sampling import RandomUnderSampler\n",
    "from sklearn.utils.class_weight import compute_class_weight"
   ]
  },
  {
   "cell_type": "code",
   "execution_count": 417,
   "id": "c47f605a",
   "metadata": {},
   "outputs": [],
   "source": [
    "df = pd.read_csv('All Data_USER (2).csv')"
   ]
  },
  {
   "cell_type": "markdown",
   "id": "241a6934",
   "metadata": {},
   "source": [
    "# Project Objective"
   ]
  },
  {
   "cell_type": "markdown",
   "id": "b224273e",
   "metadata": {},
   "source": [
    "The modern enterprise requires a Change Management solution that is equipped to support any and all changes they may face. Through advanced automation and workflow, ChangeGear has been designed to streamline the entire change and release management process. Organizations are enabled to meet auditing and compliance requirements with ease. Universally, IT Service Management (ITSM) is an important corporate function responsible for leveraging innovation to increase value, maximizing user productivity, providing end-to-end tech services, and so much more.\n",
    "<br><br>\n",
    "Currently, **Niagara IT departments are facing the business issue** of dealing with ChangeGear Incidents that are (a) incorrectly assigned (b) out of the scope of what the corresponding team should be responsible for. **This leads to an inefficient allocation of department resources the misalignment of team goals, responsibilities, and accountability.** As a result, expectations and the execution of these teams may ultimately become skewed as perceived by end users. From working with the WMS team and leading a monthly meeting to perform descriptive analytics of tickets, there is a widespread concern surronding this dilemma. Our team faces an overwhelmingly high volume of tickets that are typically out of scope and incorrectly assigned. \n",
    "<br><br>\n",
    "This opportunity proposes a potential solution for **Multi Classification via Supervised Machine Learning** to categorize support tickets based on a fixed number of business groups and department teams. We can easily scrape text and category from each ticket and train a model to associate certain words and phrases with a particular category. If incoming tickets are classified with a higher accuracy through a trained and tested model, this will lead to more team efficiency, saving a significant amount of time. Additionally, this proposed solution specifically addresses the faultiness of human error and perception: end users may not fully understand the roles and responsibilities of each IT team while IT Teams can equally contribute to this business error by accepting a mistaken ticket. **Resultantly, this leads to a cycle of poor IT Governance**.   \n",
    "<br><br>\n",
    "This analysis expects the following outcomes:\n",
    "1. Machine learning can provide immediate cost savings and more accurate predictions than the human counterpart.\n",
    "2. Better categorization of ticket assignment.\n",
    "3. Understanding of the words and features as specific issues/software/problems that are correlated with each team."
   ]
  },
  {
   "cell_type": "markdown",
   "id": "9571e6eb",
   "metadata": {},
   "source": [
    "# Data Information"
   ]
  },
  {
   "cell_type": "markdown",
   "id": "10f21d93",
   "metadata": {},
   "source": [
    "The data extracted from ChangeGear includes the all time CLOSED ticket incidents for all Niagara plants. For descriptive analytics we would like to understand most of the data attributes such as the teams (Owner), the incident categories (Incident Type and Incident Type Full Path), and finally the opening date of the ticket (Created) which can provide a low scale time series component. However, our focus will be prioritized on the textual submission by the user (Summary)."
   ]
  },
  {
   "cell_type": "code",
   "execution_count": 418,
   "id": "3b5a8e3e",
   "metadata": {},
   "outputs": [
    {
     "name": "stdout",
     "output_type": "stream",
     "text": [
      "<class 'pandas.core.frame.DataFrame'>\n",
      "RangeIndex: 154657 entries, 0 to 154656\n",
      "Data columns (total 13 columns):\n",
      " #   Column                   Non-Null Count   Dtype \n",
      "---  ------                   --------------   ----- \n",
      " 0   Item ID                  154652 non-null  object\n",
      " 1   Created                  154657 non-null  object\n",
      " 2   Priority                 154648 non-null  object\n",
      " 3   Requester                154657 non-null  object\n",
      " 4   Location Name            153507 non-null  object\n",
      " 5   Owner                    153200 non-null  object\n",
      " 6   Assign To                135370 non-null  object\n",
      " 7   Closed Date              154657 non-null  object\n",
      " 8   Close Type               153980 non-null  object\n",
      " 9   Incident Type            154568 non-null  object\n",
      " 10  Incident Type Full Path  154568 non-null  object\n",
      " 11  Summary                  154655 non-null  object\n",
      " 12  Resolution               94228 non-null   object\n",
      "dtypes: object(13)\n",
      "memory usage: 15.3+ MB\n"
     ]
    }
   ],
   "source": [
    "df.info()"
   ]
  },
  {
   "cell_type": "code",
   "execution_count": 419,
   "id": "8172b43c",
   "metadata": {},
   "outputs": [
    {
     "data": {
      "text/html": [
       "<div>\n",
       "<style scoped>\n",
       "    .dataframe tbody tr th:only-of-type {\n",
       "        vertical-align: middle;\n",
       "    }\n",
       "\n",
       "    .dataframe tbody tr th {\n",
       "        vertical-align: top;\n",
       "    }\n",
       "\n",
       "    .dataframe thead th {\n",
       "        text-align: right;\n",
       "    }\n",
       "</style>\n",
       "<table border=\"1\" class=\"dataframe\">\n",
       "  <thead>\n",
       "    <tr style=\"text-align: right;\">\n",
       "      <th></th>\n",
       "      <th>Item ID</th>\n",
       "      <th>Created</th>\n",
       "      <th>Priority</th>\n",
       "      <th>Requester</th>\n",
       "      <th>Location Name</th>\n",
       "      <th>Owner</th>\n",
       "      <th>Assign To</th>\n",
       "      <th>Closed Date</th>\n",
       "      <th>Close Type</th>\n",
       "      <th>Incident Type</th>\n",
       "      <th>Incident Type Full Path</th>\n",
       "      <th>Summary</th>\n",
       "      <th>Resolution</th>\n",
       "    </tr>\n",
       "  </thead>\n",
       "  <tbody>\n",
       "    <tr>\n",
       "      <th>0</th>\n",
       "      <td>IR-0159611</td>\n",
       "      <td>5/19/2021</td>\n",
       "      <td>4 - Low</td>\n",
       "      <td>Colleen Davison</td>\n",
       "      <td>Plant-HOUSTON</td>\n",
       "      <td>EAM &amp; MRO Inventory Support</td>\n",
       "      <td>Stephen Amaya</td>\n",
       "      <td>5/19/2021</td>\n",
       "      <td>All tasks completed</td>\n",
       "      <td>Location Management ?</td>\n",
       "      <td>Software:Power Pick Global ?:Location Manageme...</td>\n",
       "      <td>Red Bin Errors in PPG Loc. Mgmt</td>\n",
       "      <td>NaN</td>\n",
       "    </tr>\n",
       "    <tr>\n",
       "      <th>1</th>\n",
       "      <td>IR-0159604</td>\n",
       "      <td>5/19/2021</td>\n",
       "      <td>3 - Medium</td>\n",
       "      <td>Sarah Spall</td>\n",
       "      <td>Home Office-CORP-OFFSITE</td>\n",
       "      <td>IT Service Desk Team</td>\n",
       "      <td>NaN</td>\n",
       "      <td>5/19/2021</td>\n",
       "      <td>All tasks completed</td>\n",
       "      <td>Other ?</td>\n",
       "      <td>Software:Other ?</td>\n",
       "      <td>Need MSSQL Server Management Studio 18</td>\n",
       "      <td>Can download SQL on my own</td>\n",
       "    </tr>\n",
       "    <tr>\n",
       "      <th>2</th>\n",
       "      <td>IR-0159578</td>\n",
       "      <td>5/19/2021</td>\n",
       "      <td>4 - Low</td>\n",
       "      <td>Madeline Cannon</td>\n",
       "      <td>Home Office-CORP-OFFSITE</td>\n",
       "      <td>IT Service Desk Team</td>\n",
       "      <td>Melvin Baires</td>\n",
       "      <td>5/19/2021</td>\n",
       "      <td>User Training</td>\n",
       "      <td>Other ?</td>\n",
       "      <td>Software:Other ?</td>\n",
       "      <td>Microsoft Teams needed</td>\n",
       "      <td>Provided teams link</td>\n",
       "    </tr>\n",
       "    <tr>\n",
       "      <th>3</th>\n",
       "      <td>IR-0159569</td>\n",
       "      <td>5/19/2021</td>\n",
       "      <td>3 - Medium</td>\n",
       "      <td>Sy Nguyen</td>\n",
       "      <td>Corporate-CORP-MAIN</td>\n",
       "      <td>Network Team</td>\n",
       "      <td>Paul Gutierrez</td>\n",
       "      <td>5/19/2021</td>\n",
       "      <td>All tasks completed</td>\n",
       "      <td>Remote Access ?</td>\n",
       "      <td>Access/Accounts/Passwords:Access Request:VPN ?...</td>\n",
       "      <td>VPN Request for External Consultant</td>\n",
       "      <td>NaN</td>\n",
       "    </tr>\n",
       "    <tr>\n",
       "      <th>4</th>\n",
       "      <td>IR-0159559</td>\n",
       "      <td>5/19/2021</td>\n",
       "      <td>2 - High</td>\n",
       "      <td>Joshua Amann</td>\n",
       "      <td>Plant-STOCKTON 2</td>\n",
       "      <td>System Admin Team</td>\n",
       "      <td>NaN</td>\n",
       "      <td>5/19/2021</td>\n",
       "      <td>Duplicate Ticket</td>\n",
       "      <td>Cameras / Cisco VSOM ?</td>\n",
       "      <td>Access/Accounts/Passwords:Access Request:Camer...</td>\n",
       "      <td>Need Camera Access</td>\n",
       "      <td>Duplicate of IR-0159558</td>\n",
       "    </tr>\n",
       "  </tbody>\n",
       "</table>\n",
       "</div>"
      ],
      "text/plain": [
       "      Item ID    Created    Priority        Requester  \\\n",
       "0  IR-0159611  5/19/2021     4 - Low  Colleen Davison   \n",
       "1  IR-0159604  5/19/2021  3 - Medium      Sarah Spall   \n",
       "2  IR-0159578  5/19/2021     4 - Low  Madeline Cannon   \n",
       "3  IR-0159569  5/19/2021  3 - Medium        Sy Nguyen   \n",
       "4  IR-0159559  5/19/2021    2 - High     Joshua Amann   \n",
       "\n",
       "              Location Name                        Owner       Assign To  \\\n",
       "0             Plant-HOUSTON  EAM & MRO Inventory Support   Stephen Amaya   \n",
       "1  Home Office-CORP-OFFSITE         IT Service Desk Team             NaN   \n",
       "2  Home Office-CORP-OFFSITE         IT Service Desk Team   Melvin Baires   \n",
       "3       Corporate-CORP-MAIN                 Network Team  Paul Gutierrez   \n",
       "4          Plant-STOCKTON 2            System Admin Team             NaN   \n",
       "\n",
       "  Closed Date           Close Type           Incident Type  \\\n",
       "0   5/19/2021  All tasks completed   Location Management ?   \n",
       "1   5/19/2021  All tasks completed                 Other ?   \n",
       "2   5/19/2021        User Training                 Other ?   \n",
       "3   5/19/2021  All tasks completed         Remote Access ?   \n",
       "4   5/19/2021     Duplicate Ticket  Cameras / Cisco VSOM ?   \n",
       "\n",
       "                             Incident Type Full Path  \\\n",
       "0  Software:Power Pick Global ?:Location Manageme...   \n",
       "1                                   Software:Other ?   \n",
       "2                                   Software:Other ?   \n",
       "3  Access/Accounts/Passwords:Access Request:VPN ?...   \n",
       "4  Access/Accounts/Passwords:Access Request:Camer...   \n",
       "\n",
       "                                  Summary                  Resolution  \n",
       "0         Red Bin Errors in PPG Loc. Mgmt                         NaN  \n",
       "1  Need MSSQL Server Management Studio 18  Can download SQL on my own  \n",
       "2                  Microsoft Teams needed         Provided teams link  \n",
       "3     VPN Request for External Consultant                         NaN  \n",
       "4                      Need Camera Access     Duplicate of IR-0159558  "
      ]
     },
     "execution_count": 419,
     "metadata": {},
     "output_type": "execute_result"
    }
   ],
   "source": [
    "df.head()"
   ]
  },
  {
   "cell_type": "markdown",
   "id": "cdcc8ff0",
   "metadata": {},
   "source": [
    "# Basic Data Preperation"
   ]
  },
  {
   "cell_type": "markdown",
   "id": "c00921b9",
   "metadata": {},
   "source": [
    "## Ensure Proper Data Types"
   ]
  },
  {
   "cell_type": "code",
   "execution_count": 420,
   "id": "4a1c8dca",
   "metadata": {},
   "outputs": [],
   "source": [
    "df['Open Date']=pd.to_datetime(df['Created'])\n",
    "df['Closed Date']=pd.to_datetime(df['Closed Date'])"
   ]
  },
  {
   "cell_type": "code",
   "execution_count": 421,
   "id": "efbc7b3d",
   "metadata": {},
   "outputs": [],
   "source": [
    "df=df.set_index('Open Date')"
   ]
  },
  {
   "cell_type": "code",
   "execution_count": 422,
   "id": "27ea3c22",
   "metadata": {},
   "outputs": [
    {
     "data": {
      "text/plain": [
       "DatetimeIndex(['2021-05-19', '2021-05-19', '2021-05-19', '2021-05-19',\n",
       "               '2021-05-19', '2021-05-19', '2021-05-19', '2021-05-19',\n",
       "               '2021-05-19', '2021-05-19',\n",
       "               ...\n",
       "               '2018-01-08', '2018-01-08', '2018-01-08', '2018-01-05',\n",
       "               '2018-01-05', '2018-03-14', '2018-03-14', '2018-03-14',\n",
       "               '2018-03-14', '2020-06-22'],\n",
       "              dtype='datetime64[ns]', name='Open Date', length=154657, freq=None)"
      ]
     },
     "execution_count": 422,
     "metadata": {},
     "output_type": "execute_result"
    }
   ],
   "source": [
    "df.index"
   ]
  },
  {
   "cell_type": "code",
   "execution_count": 423,
   "id": "40d7087d",
   "metadata": {},
   "outputs": [
    {
     "data": {
      "text/html": [
       "<div>\n",
       "<style scoped>\n",
       "    .dataframe tbody tr th:only-of-type {\n",
       "        vertical-align: middle;\n",
       "    }\n",
       "\n",
       "    .dataframe tbody tr th {\n",
       "        vertical-align: top;\n",
       "    }\n",
       "\n",
       "    .dataframe thead th {\n",
       "        text-align: right;\n",
       "    }\n",
       "</style>\n",
       "<table border=\"1\" class=\"dataframe\">\n",
       "  <thead>\n",
       "    <tr style=\"text-align: right;\">\n",
       "      <th></th>\n",
       "      <th>Item ID</th>\n",
       "      <th>Created</th>\n",
       "      <th>Priority</th>\n",
       "      <th>Requester</th>\n",
       "      <th>Location Name</th>\n",
       "      <th>Owner</th>\n",
       "      <th>Assign To</th>\n",
       "      <th>Closed Date</th>\n",
       "      <th>Close Type</th>\n",
       "      <th>Incident Type</th>\n",
       "      <th>Incident Type Full Path</th>\n",
       "      <th>Summary</th>\n",
       "      <th>Resolution</th>\n",
       "    </tr>\n",
       "    <tr>\n",
       "      <th>Open Date</th>\n",
       "      <th></th>\n",
       "      <th></th>\n",
       "      <th></th>\n",
       "      <th></th>\n",
       "      <th></th>\n",
       "      <th></th>\n",
       "      <th></th>\n",
       "      <th></th>\n",
       "      <th></th>\n",
       "      <th></th>\n",
       "      <th></th>\n",
       "      <th></th>\n",
       "      <th></th>\n",
       "    </tr>\n",
       "  </thead>\n",
       "  <tbody>\n",
       "    <tr>\n",
       "      <th>2021-05-19</th>\n",
       "      <td>IR-0159611</td>\n",
       "      <td>5/19/2021</td>\n",
       "      <td>4 - Low</td>\n",
       "      <td>Colleen Davison</td>\n",
       "      <td>Plant-HOUSTON</td>\n",
       "      <td>EAM &amp; MRO Inventory Support</td>\n",
       "      <td>Stephen Amaya</td>\n",
       "      <td>2021-05-19</td>\n",
       "      <td>All tasks completed</td>\n",
       "      <td>Location Management ?</td>\n",
       "      <td>Software:Power Pick Global ?:Location Manageme...</td>\n",
       "      <td>Red Bin Errors in PPG Loc. Mgmt</td>\n",
       "      <td>NaN</td>\n",
       "    </tr>\n",
       "  </tbody>\n",
       "</table>\n",
       "</div>"
      ],
      "text/plain": [
       "               Item ID    Created Priority        Requester  Location Name  \\\n",
       "Open Date                                                                    \n",
       "2021-05-19  IR-0159611  5/19/2021  4 - Low  Colleen Davison  Plant-HOUSTON   \n",
       "\n",
       "                                  Owner      Assign To Closed Date  \\\n",
       "Open Date                                                            \n",
       "2021-05-19  EAM & MRO Inventory Support  Stephen Amaya  2021-05-19   \n",
       "\n",
       "                     Close Type          Incident Type  \\\n",
       "Open Date                                                \n",
       "2021-05-19  All tasks completed  Location Management ?   \n",
       "\n",
       "                                      Incident Type Full Path  \\\n",
       "Open Date                                                       \n",
       "2021-05-19  Software:Power Pick Global ?:Location Manageme...   \n",
       "\n",
       "                                    Summary Resolution  \n",
       "Open Date                                               \n",
       "2021-05-19  Red Bin Errors in PPG Loc. Mgmt        NaN  "
      ]
     },
     "execution_count": 423,
     "metadata": {},
     "output_type": "execute_result"
    }
   ],
   "source": [
    "df.head(1)"
   ]
  },
  {
   "cell_type": "markdown",
   "id": "addf0f76",
   "metadata": {},
   "source": [
    "## Missing Values"
   ]
  },
  {
   "cell_type": "code",
   "execution_count": 424,
   "id": "10825ac3",
   "metadata": {},
   "outputs": [
    {
     "data": {
      "text/plain": [
       "Item ID                        5\n",
       "Created                        0\n",
       "Priority                       9\n",
       "Requester                      0\n",
       "Location Name               1150\n",
       "Owner                       1457\n",
       "Assign To                  19287\n",
       "Closed Date                    0\n",
       "Close Type                   677\n",
       "Incident Type                 89\n",
       "Incident Type Full Path       89\n",
       "Summary                        2\n",
       "Resolution                 60429\n",
       "dtype: int64"
      ]
     },
     "execution_count": 424,
     "metadata": {},
     "output_type": "execute_result"
    }
   ],
   "source": [
    "df.isna().sum()"
   ]
  },
  {
   "cell_type": "markdown",
   "id": "bb338021",
   "metadata": {},
   "source": [
    "Looking at the missing values we see that the most outstanding is Resolution, Assign To, Owner, Location Name, Close Type, Incident Type and Full Path. We have to assess how to handle these missing values for each column. \n",
    "<br> \n",
    "1. **Resolution**: The resolution is not that important and will not be that impactful on our analysis. However, the analyses of the resolution for each type of incident can prove beneficial in a potential future study. We can simply delete this column from our dataset for this study.\n",
    "2. **Assign To**: This is the employee who was assigned to the corresponding ticket. We can delete this column from our dataset for this study.\n",
    "3. **Owner**: This is the department/team for which the incident was assigned to. Since this is our main classifier, we need all records to have this label. We will drop all records that have a missing value here.\n",
    "4. **Location Name**: This is the plant from which the ticket originated from. We will proceed to keep this column, however we will remove all records that have a missing value here. \n",
    "4. **Close Type**: This specifies the reason why the incident was closed, however we will remove all records that have a missing value here for consistency.\n",
    "5. **Incident Type/Full Path**: This categorizes the incident of the ticket. This will be important for our analysis so we will remove all records that have a missing value here."
   ]
  },
  {
   "cell_type": "code",
   "execution_count": 425,
   "id": "d4520664",
   "metadata": {},
   "outputs": [],
   "source": [
    "#Drop Not Need Columns\n",
    "del df['Resolution']\n",
    "del df['Assign To']\n",
    "\n",
    "#Drop NA records for columns\n",
    "na_columns = ['Owner', 'Location Name', 'Close Type', 'Incident Type', 'Incident Type Full Path']\n",
    "for column in na_columns:\n",
    "    df = df[df[column].notna()]"
   ]
  },
  {
   "cell_type": "code",
   "execution_count": 426,
   "id": "41dc6ebb",
   "metadata": {},
   "outputs": [
    {
     "data": {
      "text/plain": [
       "Item ID                    0\n",
       "Created                    0\n",
       "Priority                   0\n",
       "Requester                  0\n",
       "Location Name              0\n",
       "Owner                      0\n",
       "Closed Date                0\n",
       "Close Type                 0\n",
       "Incident Type              0\n",
       "Incident Type Full Path    0\n",
       "Summary                    0\n",
       "dtype: int64"
      ]
     },
     "execution_count": 426,
     "metadata": {},
     "output_type": "execute_result"
    }
   ],
   "source": [
    "#Double Check for NA values\n",
    "df.isna().sum()"
   ]
  },
  {
   "cell_type": "code",
   "execution_count": 427,
   "id": "b7469139",
   "metadata": {},
   "outputs": [
    {
     "data": {
      "text/plain": [
       "Close Type\n",
       "All tasks completed                              112993\n",
       "No Action Required                                11667\n",
       "Account Maintenance                                8401\n",
       "No response from user                              4684\n",
       "Equipment Replaced/Upgraded/Returned/Repaired      3208\n",
       "Software Maintenance                               2137\n",
       "User Training                                      1789\n",
       "Application Maintenance                            1741\n",
       "Duplicate Ticket                                   1625\n",
       "Known Error                                        1416\n",
       "Out of Scope                                       1025\n",
       "Network Outage                                      609\n",
       "Service Request                                     293\n",
       "Future Enhancement                                  251\n",
       "Name: Item ID, dtype: int64"
      ]
     },
     "execution_count": 427,
     "metadata": {},
     "output_type": "execute_result"
    }
   ],
   "source": [
    "#See count of all reasons why Ticket Submission was closed\n",
    "df.groupby('Close Type')['Item ID'].nunique().sort_values(ascending=False)"
   ]
  },
  {
   "cell_type": "markdown",
   "id": "282a9f58",
   "metadata": {},
   "source": [
    "The results above are very useful for cleaning our data and working toward removing data that would cause detriment to our model results. In this case, Close Type can be quite indicative of bad data. This would be because varying reasons as to why the ticket was closed could mean different things, not necessarily that the ticket was appropriately resolved. Other reasons could be that it was closed because it was Out of Scope or the submission of the ticket was an admitted mistake from the requestor. In those two examples, including such labeled data would later cause inaccurate predictions due to training our model with incorrect data. We will filter out these Close Type incidents from out dataset. "
   ]
  },
  {
   "cell_type": "code",
   "execution_count": 428,
   "id": "6106dae8",
   "metadata": {},
   "outputs": [],
   "source": [
    "#We will filter out 'Duplicate Ticket' and 'Out of Scope'\n",
    "df=df[df['Close Type'] != 'Duplicate Ticket']\n",
    "df=df[df['Close Type'] != 'Out of Scope']"
   ]
  },
  {
   "cell_type": "markdown",
   "id": "d470846e",
   "metadata": {},
   "source": [
    "# Advanced Data Preparation\n",
    "## Regex"
   ]
  },
  {
   "cell_type": "code",
   "execution_count": 429,
   "id": "1014c8fc",
   "metadata": {},
   "outputs": [],
   "source": [
    "#dataframe of corpus and classifier\n",
    "corpusAndClassifier_df = df[['Owner','Summary']]"
   ]
  },
  {
   "cell_type": "code",
   "execution_count": 430,
   "id": "3eff1fb2",
   "metadata": {},
   "outputs": [
    {
     "data": {
      "text/html": [
       "<div>\n",
       "<style scoped>\n",
       "    .dataframe tbody tr th:only-of-type {\n",
       "        vertical-align: middle;\n",
       "    }\n",
       "\n",
       "    .dataframe tbody tr th {\n",
       "        vertical-align: top;\n",
       "    }\n",
       "\n",
       "    .dataframe thead th {\n",
       "        text-align: right;\n",
       "    }\n",
       "</style>\n",
       "<table border=\"1\" class=\"dataframe\">\n",
       "  <thead>\n",
       "    <tr style=\"text-align: right;\">\n",
       "      <th></th>\n",
       "      <th>Owner</th>\n",
       "      <th>Summary</th>\n",
       "    </tr>\n",
       "    <tr>\n",
       "      <th>Open Date</th>\n",
       "      <th></th>\n",
       "      <th></th>\n",
       "    </tr>\n",
       "  </thead>\n",
       "  <tbody>\n",
       "    <tr>\n",
       "      <th>2021-05-19</th>\n",
       "      <td>EAM &amp; MRO Inventory Support</td>\n",
       "      <td>Red Bin Errors in PPG Loc. Mgmt</td>\n",
       "    </tr>\n",
       "    <tr>\n",
       "      <th>2021-05-19</th>\n",
       "      <td>IT Service Desk Team</td>\n",
       "      <td>Need MSSQL Server Management Studio 18</td>\n",
       "    </tr>\n",
       "    <tr>\n",
       "      <th>2021-05-19</th>\n",
       "      <td>IT Service Desk Team</td>\n",
       "      <td>Microsoft Teams needed</td>\n",
       "    </tr>\n",
       "    <tr>\n",
       "      <th>2021-05-19</th>\n",
       "      <td>Network Team</td>\n",
       "      <td>VPN Request for External Consultant</td>\n",
       "    </tr>\n",
       "    <tr>\n",
       "      <th>2021-05-19</th>\n",
       "      <td>IT Service Desk Team</td>\n",
       "      <td>REQUEST ORACLE PASSWORD RESET FOR GLEN MURPHY ...</td>\n",
       "    </tr>\n",
       "  </tbody>\n",
       "</table>\n",
       "</div>"
      ],
      "text/plain": [
       "                                  Owner  \\\n",
       "Open Date                                 \n",
       "2021-05-19  EAM & MRO Inventory Support   \n",
       "2021-05-19         IT Service Desk Team   \n",
       "2021-05-19         IT Service Desk Team   \n",
       "2021-05-19                 Network Team   \n",
       "2021-05-19         IT Service Desk Team   \n",
       "\n",
       "                                                      Summary  \n",
       "Open Date                                                      \n",
       "2021-05-19                    Red Bin Errors in PPG Loc. Mgmt  \n",
       "2021-05-19             Need MSSQL Server Management Studio 18  \n",
       "2021-05-19                             Microsoft Teams needed  \n",
       "2021-05-19                VPN Request for External Consultant  \n",
       "2021-05-19  REQUEST ORACLE PASSWORD RESET FOR GLEN MURPHY ...  "
      ]
     },
     "execution_count": 430,
     "metadata": {},
     "output_type": "execute_result"
    }
   ],
   "source": [
    "corpusAndClassifier_df.head()"
   ]
  },
  {
   "cell_type": "code",
   "execution_count": 431,
   "id": "c710edce",
   "metadata": {},
   "outputs": [],
   "source": [
    "wpt=nltk.WordPunctTokenizer()\n",
    "stop_words=nltk.corpus.stopwords.words('english')\n",
    "porter=PorterStemmer()"
   ]
  },
  {
   "cell_type": "code",
   "execution_count": 432,
   "id": "4d1332e5",
   "metadata": {},
   "outputs": [],
   "source": [
    "#create text preprocessing pipeline\n",
    "def normalize_doc(doc):\n",
    "    doc=re.sub(r'[^a-zA-Z\\s]', '', doc) #eliminate special characters \n",
    "    doc=doc.lower() #change all to lowercase\n",
    "    doc=doc.strip() #remove whitespace\n",
    "    tokens=wpt.tokenize(doc)\n",
    "    filtered_tokens=[token for token in tokens if token not in stop_words]\n",
    "    doc=' '.join(filtered_tokens)\n",
    "    return doc"
   ]
  },
  {
   "cell_type": "markdown",
   "id": "0c89c79e",
   "metadata": {},
   "source": [
    "### Normalize Summary"
   ]
  },
  {
   "cell_type": "code",
   "execution_count": 433,
   "id": "7846dc6e",
   "metadata": {},
   "outputs": [
    {
     "name": "stderr",
     "output_type": "stream",
     "text": [
      "<ipython-input-433-a2bd9d6db9d3>:4: SettingWithCopyWarning: \n",
      "A value is trying to be set on a copy of a slice from a DataFrame.\n",
      "Try using .loc[row_indexer,col_indexer] = value instead\n",
      "\n",
      "See the caveats in the documentation: https://pandas.pydata.org/pandas-docs/stable/user_guide/indexing.html#returning-a-view-versus-a-copy\n",
      "  corpusAndClassifier_df['Clean_Summary']=norm_corpus\n"
     ]
    }
   ],
   "source": [
    "text=corpusAndClassifier_df['Summary'] \n",
    "normalize_corpus=np.vectorize(normalize_doc) #create a vectorized object for our normalization pipeline\n",
    "norm_corpus=normalize_corpus(text)\n",
    "corpusAndClassifier_df['Clean_Summary']=norm_corpus"
   ]
  },
  {
   "cell_type": "code",
   "execution_count": 434,
   "id": "5fd15a5e",
   "metadata": {},
   "outputs": [
    {
     "data": {
      "text/html": [
       "<div>\n",
       "<style scoped>\n",
       "    .dataframe tbody tr th:only-of-type {\n",
       "        vertical-align: middle;\n",
       "    }\n",
       "\n",
       "    .dataframe tbody tr th {\n",
       "        vertical-align: top;\n",
       "    }\n",
       "\n",
       "    .dataframe thead th {\n",
       "        text-align: right;\n",
       "    }\n",
       "</style>\n",
       "<table border=\"1\" class=\"dataframe\">\n",
       "  <thead>\n",
       "    <tr style=\"text-align: right;\">\n",
       "      <th></th>\n",
       "      <th>Owner</th>\n",
       "      <th>Summary</th>\n",
       "      <th>Clean_Summary</th>\n",
       "    </tr>\n",
       "    <tr>\n",
       "      <th>Open Date</th>\n",
       "      <th></th>\n",
       "      <th></th>\n",
       "      <th></th>\n",
       "    </tr>\n",
       "  </thead>\n",
       "  <tbody>\n",
       "    <tr>\n",
       "      <th>2021-05-19</th>\n",
       "      <td>EAM &amp; MRO Inventory Support</td>\n",
       "      <td>Red Bin Errors in PPG Loc. Mgmt</td>\n",
       "      <td>red bin errors ppg loc mgmt</td>\n",
       "    </tr>\n",
       "    <tr>\n",
       "      <th>2021-05-19</th>\n",
       "      <td>IT Service Desk Team</td>\n",
       "      <td>Need MSSQL Server Management Studio 18</td>\n",
       "      <td>need mssql server management studio</td>\n",
       "    </tr>\n",
       "    <tr>\n",
       "      <th>2021-05-19</th>\n",
       "      <td>IT Service Desk Team</td>\n",
       "      <td>Microsoft Teams needed</td>\n",
       "      <td>microsoft teams needed</td>\n",
       "    </tr>\n",
       "    <tr>\n",
       "      <th>2021-05-19</th>\n",
       "      <td>Network Team</td>\n",
       "      <td>VPN Request for External Consultant</td>\n",
       "      <td>vpn request external consultant</td>\n",
       "    </tr>\n",
       "    <tr>\n",
       "      <th>2021-05-19</th>\n",
       "      <td>IT Service Desk Team</td>\n",
       "      <td>REQUEST ORACLE PASSWORD RESET FOR GLEN MURPHY ...</td>\n",
       "      <td>request oracle password reset glen murphy empl...</td>\n",
       "    </tr>\n",
       "    <tr>\n",
       "      <th>2021-05-19</th>\n",
       "      <td>Network Team</td>\n",
       "      <td>DEN - CHECKIN LANE 2 - EX 0652 IS DOWN</td>\n",
       "      <td>den checkin lane ex</td>\n",
       "    </tr>\n",
       "    <tr>\n",
       "      <th>2021-05-19</th>\n",
       "      <td>IT Service Desk Team</td>\n",
       "      <td>Oracle Access</td>\n",
       "      <td>oracle access</td>\n",
       "    </tr>\n",
       "    <tr>\n",
       "      <th>2021-05-19</th>\n",
       "      <td>HRIS Team</td>\n",
       "      <td>Two people hired to R22289</td>\n",
       "      <td>two people hired r</td>\n",
       "    </tr>\n",
       "    <tr>\n",
       "      <th>2021-05-19</th>\n",
       "      <td>EAM &amp; MRO Inventory Support</td>\n",
       "      <td>Request to make a change on PO# 673525. I've a...</td>\n",
       "      <td>request make change po ive attached po invoice...</td>\n",
       "    </tr>\n",
       "    <tr>\n",
       "      <th>2021-05-19</th>\n",
       "      <td>MRP Team</td>\n",
       "      <td>PO NOT OPEN 667821-1</td>\n",
       "      <td>po open</td>\n",
       "    </tr>\n",
       "  </tbody>\n",
       "</table>\n",
       "</div>"
      ],
      "text/plain": [
       "                                  Owner  \\\n",
       "Open Date                                 \n",
       "2021-05-19  EAM & MRO Inventory Support   \n",
       "2021-05-19         IT Service Desk Team   \n",
       "2021-05-19         IT Service Desk Team   \n",
       "2021-05-19                 Network Team   \n",
       "2021-05-19         IT Service Desk Team   \n",
       "2021-05-19                 Network Team   \n",
       "2021-05-19         IT Service Desk Team   \n",
       "2021-05-19                    HRIS Team   \n",
       "2021-05-19  EAM & MRO Inventory Support   \n",
       "2021-05-19                     MRP Team   \n",
       "\n",
       "                                                      Summary  \\\n",
       "Open Date                                                       \n",
       "2021-05-19                    Red Bin Errors in PPG Loc. Mgmt   \n",
       "2021-05-19             Need MSSQL Server Management Studio 18   \n",
       "2021-05-19                             Microsoft Teams needed   \n",
       "2021-05-19                VPN Request for External Consultant   \n",
       "2021-05-19  REQUEST ORACLE PASSWORD RESET FOR GLEN MURPHY ...   \n",
       "2021-05-19             DEN - CHECKIN LANE 2 - EX 0652 IS DOWN   \n",
       "2021-05-19                                      Oracle Access   \n",
       "2021-05-19                         Two people hired to R22289   \n",
       "2021-05-19  Request to make a change on PO# 673525. I've a...   \n",
       "2021-05-19                               PO NOT OPEN 667821-1   \n",
       "\n",
       "                                                Clean_Summary  \n",
       "Open Date                                                      \n",
       "2021-05-19                        red bin errors ppg loc mgmt  \n",
       "2021-05-19                need mssql server management studio  \n",
       "2021-05-19                             microsoft teams needed  \n",
       "2021-05-19                    vpn request external consultant  \n",
       "2021-05-19  request oracle password reset glen murphy empl...  \n",
       "2021-05-19                                den checkin lane ex  \n",
       "2021-05-19                                      oracle access  \n",
       "2021-05-19                                 two people hired r  \n",
       "2021-05-19  request make change po ive attached po invoice...  \n",
       "2021-05-19                                            po open  "
      ]
     },
     "execution_count": 434,
     "metadata": {},
     "output_type": "execute_result"
    }
   ],
   "source": [
    "corpusAndClassifier_df.head(10)"
   ]
  },
  {
   "cell_type": "markdown",
   "id": "04782bf0",
   "metadata": {},
   "source": [
    "In the above code, we have prepared our textual data for further analysis and experimentation for modeling. PorterStemmer is used to optimize our results by extracting the base form of the words through the removal of affixes from. For example, the stem of the words eating, eats, eaten is eat. Search engines use stemming for indexing the words. "
   ]
  },
  {
   "cell_type": "markdown",
   "id": "beef152d",
   "metadata": {},
   "source": [
    "# EDA and Descriptive Analytics"
   ]
  },
  {
   "cell_type": "markdown",
   "id": "08b4addf",
   "metadata": {},
   "source": [
    "The focus of exploring our data will be on gaining insight into the categories and the departments that see a volume of tickets. This will aid our study by clarifying the best routes of action to take for further analysis. Provided are a number of topics to address here:\n",
    "1. Busiest Departments and Teams\n",
    "2. The Top Issues\n",
    "3. Incidents Over Time\n",
    "4. Ticket Volume Over Time for heavy teams"
   ]
  },
  {
   "cell_type": "code",
   "execution_count": 440,
   "id": "1d89e2fd",
   "metadata": {},
   "outputs": [
    {
     "data": {
      "text/plain": [
       "(Timestamp('2018-01-05 00:00:00'), Timestamp('2021-05-19 00:00:00'))"
      ]
     },
     "execution_count": 440,
     "metadata": {},
     "output_type": "execute_result"
    }
   ],
   "source": [
    "df.index.min(), df.index.max()"
   ]
  },
  {
   "cell_type": "code",
   "execution_count": 448,
   "id": "242645a9",
   "metadata": {},
   "outputs": [
    {
     "name": "stdout",
     "output_type": "stream",
     "text": [
      "Open Date\n",
      "2018-01-31     850\n",
      "2018-02-28    2220\n",
      "2018-03-31    2478\n",
      "2018-04-30    2726\n",
      "2018-05-31    2696\n",
      "2018-06-30    2894\n",
      "2018-07-31    2827\n",
      "2018-08-31    2889\n",
      "2018-09-30    2707\n",
      "2018-10-31    3117\n",
      "2018-11-30    2872\n",
      "2018-12-31    3211\n",
      "2019-01-31    4445\n",
      "2019-02-28    4082\n",
      "2019-03-31    4341\n",
      "2019-04-30    4655\n",
      "2019-05-31    5202\n",
      "2019-06-30    4697\n",
      "2019-07-31    4775\n",
      "2019-08-31    4367\n",
      "2019-09-30    4105\n",
      "2019-10-31    4564\n",
      "2019-11-30    3556\n",
      "2019-12-31    3346\n",
      "2020-01-31    4438\n",
      "2020-02-29    4538\n",
      "2020-03-31    5125\n",
      "2020-04-30    4919\n",
      "2020-05-31    4329\n",
      "2020-06-30    4873\n",
      "2020-07-31    3922\n",
      "2020-08-31    3554\n",
      "2020-09-30    3522\n",
      "2020-10-31    3737\n",
      "2020-11-30    3403\n",
      "2020-12-31    3735\n",
      "2021-01-31    3665\n",
      "2021-02-28    3314\n",
      "2021-03-31    3613\n",
      "2021-04-30    3377\n",
      "2021-05-31    1503\n",
      "Freq: M, Name: Created, dtype: int64\n"
     ]
    },
    {
     "data": {
      "image/png": "[encoded data removed]",
      "text/plain": [
       "<Figure size 864x432 with 1 Axes>"
      ]
     },
     "metadata": {},
     "output_type": "display_data"
    }
   ],
   "source": [
    "#Time Resampling for Tickets\n",
    "ticketTimeSeries=df['Created'].resample(rule = 'M').count()\n",
    "print(ticketTimeSeries)\n",
    "df['Created'].resample(rule = 'M').count().plot.line(figsize=(12,6), \n",
    "                                                         linestyle='dotted', \n",
    "                                                         color='red') #aggregation of month end frequency for ticketsmb\n",
    "plt.savefig('timeseries.png')"
   ]
  },
  {
   "cell_type": "markdown",
   "id": "c3ce22f9",
   "metadata": {},
   "source": [
    "We see the volumne of tickets throughout the starting point in January until March. "
   ]
  },
  {
   "cell_type": "markdown",
   "id": "57678571",
   "metadata": {},
   "source": [
    "### Niagara IT Teams"
   ]
  },
  {
   "cell_type": "markdown",
   "id": "cb1b5050",
   "metadata": {},
   "source": [
    "In the following visualizations, we will look at our model class: the Niagara teams for all tickets. From this analysis, we will be able to decide if we would need to pivot our data in a certain direction, i.e. to either focus on a few teams or all."
   ]
  },
  {
   "cell_type": "code",
   "execution_count": 438,
   "id": "6ce7b256",
   "metadata": {},
   "outputs": [
    {
     "data": {
      "text/plain": [
       "124"
      ]
     },
     "execution_count": 438,
     "metadata": {},
     "output_type": "execute_result"
    }
   ],
   "source": [
    "len(pd.unique(df['Owner']))"
   ]
  },
  {
   "cell_type": "markdown",
   "id": "ef3fd82c",
   "metadata": {},
   "source": [
    "In the data, there are 124 distinct values for Owner. This number is very high. A high number of classes in a multiclassification problem is problematic for accuracy. Why? **When a dataset do not represent all classes of data equally, the model might overfit to the class that’s represented more in the dataset and become oblivious to the existence of the minority class. Though it could result in a good accuracy, it may fail miserably in production.**. To better validate this, we look at the distribution of the data."
   ]
  },
  {
   "cell_type": "code",
   "execution_count": 439,
   "id": "92fcf518",
   "metadata": {},
   "outputs": [
    {
     "data": {
      "text/plain": [
       "Elias Lopez_00                            1\n",
       "Maintenance Compliance Team               1\n",
       "Paul Gutierrez                            1\n",
       "Yevette Baker_00_00                       1\n",
       "Alain Cholette                            1\n",
       "Ruben Armas                               1\n",
       "Marisol Castrejon                         1\n",
       "Paul Gonzalez                             1\n",
       "Fernando Diaz                             1\n",
       "Central Logistic Ops Superusers           1\n",
       "Jack Kaylor                               1\n",
       "EAM Warranty Team                         1\n",
       "Meal Expense Team                         1\n",
       "Janelle Roper                             1\n",
       "Trevor Deight                             1\n",
       "Strategic Planning Department             1\n",
       "Wilson Shiao                              1\n",
       "Gus Larios                                1\n",
       "Central Customer Service Superusers       1\n",
       "Sheau-Ling Kostlan_00                     1\n",
       "3PL Team                                  2\n",
       "Fitzpatrick                               2\n",
       "EBS Approvals Team - Indirect Buyer       2\n",
       "HR Team                                   2\n",
       "SW Customer Service Superusers            2\n",
       "NE Customer Service Superusers            2\n",
       "Marleni Esquivel Vega                     2\n",
       "West Customer Service Superusers          2\n",
       "Jack Brown_00                             3\n",
       "Inventory Inaccuracy Team                 3\n",
       "Nu-Pure IT                                3\n",
       "Application Managers Team                 3\n",
       "IT Security Team                          3\n",
       "SC Rule Maint. Logistic Ops               5\n",
       "Facilities Maintenance Team               5\n",
       "Jennifer Chou                             5\n",
       "SW Logistic Ops Superusers                6\n",
       "Patrick Driffill_00                       6\n",
       "SC Rule Maint. Customer Service           7\n",
       "Tech Eng Plant Support Team               8\n",
       "Asset Reliability Team                    8\n",
       "NE Logistic Ops Superusers                8\n",
       "CAPEX Support Team                        9\n",
       "Customer Service CI                      10\n",
       "Alt Brand Customer Service Superusers    11\n",
       "FourKites                                13\n",
       "DO NOT USE Finance Department            14\n",
       "Planning Solutions                       14\n",
       "Kronos Team                              15\n",
       "DBA SQL Team                             16\n",
       "Name: Owner, dtype: int64"
      ]
     },
     "execution_count": 439,
     "metadata": {},
     "output_type": "execute_result"
    }
   ],
   "source": [
    "#unique values in the column with value count, get lowest count\n",
    "ownerUniqueCounts=df['Owner'].value_counts(ascending=True)\n",
    "ownerUniqueCounts.iloc[:50]"
   ]
  },
  {
   "cell_type": "markdown",
   "id": "ed7e7d4d",
   "metadata": {},
   "source": [
    "This shows that our classes are poorly balanced. This imbalance would negatively impact the accuracy of our model so this presents the need to further clean the classes. "
   ]
  },
  {
   "cell_type": "code",
   "execution_count": 449,
   "id": "d1a704a9",
   "metadata": {},
   "outputs": [
    {
     "data": {
      "text/plain": [
       "Text(0, 0.5, 'Count of Incidents')"
      ]
     },
     "execution_count": 449,
     "metadata": {},
     "output_type": "execute_result"
    },
    {
     "data": {
      "image/png": "[encoded data removed]",
      "text/plain": [
       "<Figure size 936x432 with 1 Axes>"
      ]
     },
     "metadata": {},
     "output_type": "display_data"
    }
   ],
   "source": [
    "#Busiest Departments and Teams: Top 10\n",
    "departments = df['Owner'].value_counts().head(20)\n",
    "plt.style.use('seaborn-darkgrid')\n",
    "y1=departments.values\n",
    "x1=departments.index\n",
    "plt.figure(figsize=(13,6))\n",
    "plt.barh(x1,y1)\n",
    "plt.xlabel('Niagara Team')\n",
    "plt.ylabel('Count of Incidents')"
   ]
  },
  {
   "cell_type": "code",
   "execution_count": 447,
   "id": "eb998a4d",
   "metadata": {},
   "outputs": [
    {
     "data": {
      "image/png": "[encoded data removed]",
      "text/plain": [
       "<Figure size 1008x504 with 1 Axes>"
      ]
     },
     "metadata": {},
     "output_type": "display_data"
    }
   ],
   "source": [
    "#Departments and Ticket Types\n",
    "cross_tab1 = pd.crosstab(df.Owner, df.Priority)\n",
    "cross_tab1['total'] = cross_tab1['1 - Critical'] + cross_tab1['2 - High'] + cross_tab1['3 - Medium'] + cross_tab1['4 - Low']\n",
    "cross_tab1.sort_values(by='total', ascending=False).head(10).plot(kind='bar',\n",
    "                                                                 figsize=(14,7), \n",
    "                                                                 color=['blue', 'green', 'purple','orange', 'gray'])\n",
    "plt.savefig('changegear_teams.png')"
   ]
  },
  {
   "cell_type": "markdown",
   "id": "17e45be0",
   "metadata": {},
   "source": [
    "Acknowledging the graphic and the sum above, we can see that we have a large number of data to work with if we focus on the more relevant and most heavy hitting departments. IT Service Desk Team obviously faces the largest number of ticket volume, and the volumne significantly starts to drop off afterward. We can focus on our analysis on this number of teams as they have the most tickets. Even with the Top 20 Owners, there is still a significant imbalance between the classes. Later in this analysis, we will explore oversampling/undersampling. \n",
    "<br><br>\n",
    "For now, let's only focus on teams where they have at least closed 5000 tickets all time."
   ]
  },
  {
   "cell_type": "code",
   "execution_count": 28,
   "id": "11787156",
   "metadata": {},
   "outputs": [],
   "source": [
    "topTeams = ownerUniqueCounts[ownerUniqueCounts >= 5000]\n",
    "topTeams=topTeams.index.tolist()"
   ]
  },
  {
   "cell_type": "code",
   "execution_count": 29,
   "id": "e928d2ea",
   "metadata": {},
   "outputs": [
    {
     "data": {
      "text/plain": [
       "['HRIS Team',\n",
       " 'Network Team',\n",
       " 'Planning Support',\n",
       " 'WMS Team',\n",
       " 'System Admin Team',\n",
       " 'OTM Support',\n",
       " 'EAM & MRO Inventory Support',\n",
       " 'IT Service Desk Team']"
      ]
     },
     "execution_count": 29,
     "metadata": {},
     "output_type": "execute_result"
    }
   ],
   "source": [
    "topTeams"
   ]
  },
  {
   "cell_type": "code",
   "execution_count": 30,
   "id": "5ed9d7d0",
   "metadata": {},
   "outputs": [],
   "source": [
    "#filter our normalized df to only the topTeams\n",
    "corpusAndClassifier_df=corpusAndClassifier_df[corpusAndClassifier_df['Owner'].isin(topTeams)]"
   ]
  },
  {
   "cell_type": "markdown",
   "id": "c46aa2cb",
   "metadata": {},
   "source": [
    "### Incidents"
   ]
  },
  {
   "cell_type": "code",
   "execution_count": 31,
   "id": "0c5e97f1",
   "metadata": {},
   "outputs": [
    {
     "data": {
      "text/plain": [
       "Text(0, 0.5, 'Count of Incidents')"
      ]
     },
     "execution_count": 31,
     "metadata": {},
     "output_type": "execute_result"
    },
    {
     "name": "stderr",
     "output_type": "stream",
     "text": [
      "C:\\Users\\jlinao\\Anaconda3\\lib\\site-packages\\matplotlib\\backends\\backend_agg.py:238: RuntimeWarning: Glyph 65533 missing from current font.\n",
      "  font.set_text(s, 0.0, flags=flags)\n",
      "C:\\Users\\jlinao\\Anaconda3\\lib\\site-packages\\matplotlib\\backends\\backend_agg.py:201: RuntimeWarning: Glyph 65533 missing from current font.\n",
      "  font.set_text(s, 0, flags=flags)\n"
     ]
    },
    {
     "data": {
      "image/png": "[encoded data removed]",
      "text/plain": [
       "<Figure size 720x576 with 1 Axes>"
      ]
     },
     "metadata": {},
     "output_type": "display_data"
    }
   ],
   "source": [
    "#Most Common Incidents\n",
    "incidentType = df['Incident Type Full Path'].value_counts().head(10)\n",
    "y2=incidentType.values\n",
    "x2=incidentType.index\n",
    "plt.figure(figsize=(10,8))\n",
    "plt.barh(x2,y2)\n",
    "plt.xlabel('Incident Type')\n",
    "plt.ylabel('Count of Incidents')"
   ]
  },
  {
   "cell_type": "markdown",
   "id": "6883496e",
   "metadata": {},
   "source": [
    "Taking a quick look at the most common incident type full paths, we see that Applications are the obvious heavy hitter when it comes to a single topic that Niagara end users see issues with. An interesting takeaway from these results is that the two most common incidents are also the most specific Incident Type Full Paths. "
   ]
  },
  {
   "cell_type": "markdown",
   "id": "029d44bf",
   "metadata": {},
   "source": [
    "### Priority Level"
   ]
  },
  {
   "cell_type": "code",
   "execution_count": 32,
   "id": "2be005e4",
   "metadata": {},
   "outputs": [
    {
     "data": {
      "text/plain": [
       "Text(0, 0.5, 'Count')"
      ]
     },
     "execution_count": 32,
     "metadata": {},
     "output_type": "execute_result"
    },
    {
     "data": {
      "image/png": "[encoded data removed]",
      "text/plain": [
       "<Figure size 720x432 with 1 Axes>"
      ]
     },
     "metadata": {},
     "output_type": "display_data"
    }
   ],
   "source": [
    "priorityLevel=df['Priority'].value_counts()\n",
    "y3=priorityLevel.values\n",
    "x3=priorityLevel.index\n",
    "plt.figure(figsize=(10,6))\n",
    "plt.bar(x3,y3)\n",
    "plt.title('Priority Count')\n",
    "plt.xlabel('Priority Type')\n",
    "plt.ylabel('Count')"
   ]
  },
  {
   "cell_type": "markdown",
   "id": "8b4b649c",
   "metadata": {},
   "source": [
    "We see that there is an inverse linear relationship between the priority level of the ticket and the volume of the ticket.  "
   ]
  },
  {
   "cell_type": "markdown",
   "id": "00be9432",
   "metadata": {},
   "source": [
    "# Data Modeling"
   ]
  },
  {
   "cell_type": "markdown",
   "id": "7fd3d605",
   "metadata": {},
   "source": [
    "With our business problem being a multiclass classification problem, we have many models to fit to our data and make predictions. The only way to find the most appropriate one, is to train, test, and evaluate all of them. To carry this out, we will utilize a pipeline for each classifier. After evaluating and selecting said model, we will then run a grid seach in order to find the optimal hyperparameters of the model which results in the most ‘accurate’ predictions. \n",
    "<br>\n",
    "We will look at the following models with a short overview of each: \n",
    "* **Logistic Regression**: In statistics, the logistic model is used to model the probability of a certain class or event existing such as pass/fail, win/lose, alive/dead or healthy/sick. This can be extended to model several classes of events such as determining whether an image contains a cat, dog, lion, etc.\n",
    "* **Classification and Regression Trees**: (CART) is a predictive model, which explains how an outcome variable's values can be predicted based on other values. A CART output is a decision tree where each fork is a split in a predictor variable and each end node contains a prediction for the outcome variable.\n",
    "* **K-Nearest Neighbors**:KNN algorithms use data and classify new data points based on similarity measures (e.g. distance function). Classification is done by a majority vote to its neighbors. The data is assigned to the class which has the nearest neighbors. As you increase the number of nearest neighbors, the value of k, accuracy might increase.\n",
    "* **Gradient Boosted Trees**: (GBT) Gradient boosting  produces a prediction model in the form of an ensemble of weak prediction models, typically decision trees. When a decision tree is the weak learner, the resulting algorithm is called gradient boosted trees, which usually outperforms random forest. It builds the model in a stage-wise fashion like other boosting methods do, and it generalizes them by allowing optimization of an arbitrary differentiable loss function.\n",
    "<br>\n",
    "<br>\n",
    "For the process of building out our selected model, we want to cover the following areas:\n",
    "<br>\n",
    "1. **Feature Selection**: This is incorporated in our modeling as one of the parameters that we must evaluate for the value that results in the highest accuracy. Features allow us to build a vocabulary that only consider the top max_features ordered by term frequency across the corpus. Another facet of feature selection is understanding what % of words to exclude. Excluding words based on how much and how little their frequency is is beneficial for the model. It helps consider both the insignificance of words, allowing the model to focus on more important ones. Finally it also helps negate words that are so overwhemingly frequent to the extent of providing little to no value. For feature selection, we will perform a training evaluation using different arguments for this parameter.\n",
    "2. **BOW and TFIDF**: Because we are dealing with textual data and performing an NLP task, we have to implement a TFIDF transformer on our Summary data. TF-IDF is a statistical measure that evaluates how relevant a word is to a document in a collection of documents. This is done by multiplying two metrics: how many times a word appears in a document, and the inverse document frequency of the word across a set of documents. By vectorizing the documents we can further perform multiple tasks such as finding the relevant documents, ranking, clustering and so on. TFIDF is proved to be more efficient and have much better results as opposed to Bag of Words (BOW) and Term Frequency (TF). "
   ]
  },
  {
   "cell_type": "code",
   "execution_count": 33,
   "id": "4532c92d",
   "metadata": {},
   "outputs": [],
   "source": [
    "#isolate our data: the classifier (Summary) and the textual data (Clean_Summary)\n",
    "X=corpusAndClassifier_df['Clean_Summary'].values\n",
    "y=corpusAndClassifier_df['Owner'].values"
   ]
  },
  {
   "cell_type": "code",
   "execution_count": 34,
   "id": "0d9cb465",
   "metadata": {},
   "outputs": [
    {
     "data": {
      "text/plain": [
       "(numpy.ndarray, numpy.ndarray)"
      ]
     },
     "execution_count": 34,
     "metadata": {},
     "output_type": "execute_result"
    }
   ],
   "source": [
    "type(X), type(y)"
   ]
  },
  {
   "cell_type": "code",
   "execution_count": 35,
   "id": "c11d9f76",
   "metadata": {},
   "outputs": [
    {
     "data": {
      "text/plain": [
       "(109470, 109470)"
      ]
     },
     "execution_count": 35,
     "metadata": {},
     "output_type": "execute_result"
    }
   ],
   "source": [
    "len(X), len(y)"
   ]
  },
  {
   "cell_type": "code",
   "execution_count": 36,
   "id": "2a62ba5c",
   "metadata": {},
   "outputs": [
    {
     "data": {
      "text/plain": [
       "((109470,), (109470,))"
      ]
     },
     "execution_count": 36,
     "metadata": {},
     "output_type": "execute_result"
    }
   ],
   "source": [
    "X.shape, y.shape"
   ]
  },
  {
   "cell_type": "code",
   "execution_count": 37,
   "id": "4f8d9b2f",
   "metadata": {},
   "outputs": [],
   "source": [
    "with open ('X.pickle','wb') as f:#wb, write-byte\n",
    "    pickle.dump (X,f)\n",
    "    \n",
    "with open ('y.pickle','wb') as f:#wb, write-byte\n",
    "    pickle.dump (y,f)"
   ]
  },
  {
   "cell_type": "markdown",
   "id": "2b80454e",
   "metadata": {},
   "source": [
    "## Resampling Data"
   ]
  },
  {
   "cell_type": "markdown",
   "id": "7a14ca72",
   "metadata": {},
   "source": [
    "A widely adopted technique for dealing with unbalanced datasets is called resampling. Resampling is done after the data is split into training, test and validation sets. Resampling is done only on the training set otherwise the performance measures could get skewed. Resampling can be of two types: **Over-sampling** and **Under-sampling**.\n",
    "* Under sampling involves removing samples from the majority class. In under-sampling, the simplest technique involves removing random records from the majority class, which can cause loss of information.\n",
    "* Over sampling involves adding more examples from the minority class . The simplest implementation of over-sampling is to duplicate random records from the minority class, which can cause overfitting. Another technique is synthesizing new examples of the minority class. The most widely used approach to synthesizing new examples is called the \n",
    "<br><br>\n",
    "For our study, we will utilize a combination of undersampling and oversampling. "
   ]
  },
  {
   "cell_type": "code",
   "execution_count": 38,
   "id": "0158d6b7",
   "metadata": {},
   "outputs": [
    {
     "name": "stdout",
     "output_type": "stream",
     "text": [
      "Class=0, n=28908 (26.407%)\n",
      "Class=2, n=33134 (30.268%)\n",
      "Class=3, n=5669 (5.179%)\n",
      "Class=1, n=5564 (5.083%)\n",
      "Class=6, n=10074 (9.203%)\n",
      "Class=7, n=7989 (7.298%)\n",
      "Class=5, n=7544 (6.891%)\n",
      "Class=4, n=10588 (9.672%)\n",
      "\n",
      "\n",
      "Before Under/Over Sampling: Counter({2: 33134, 0: 28908, 4: 10588, 6: 10074, 7: 7989, 5: 7544, 3: 5669, 1: 5564})\n"
     ]
    }
   ],
   "source": [
    "#label and encode the target varibale\n",
    "y = LabelEncoder().fit_transform(y)\n",
    "#Summarize the distribution of target variable\n",
    "counter = Counter(y)\n",
    "for key, value in counter.items():\n",
    "    per = value / len(y) * 100 \n",
    "    print('Class=%d, n=%d (%.3f%%)' % (key, value, per))\n",
    "print('\\n')\n",
    "print('Before Under/Over Sampling: ' + str(Counter(y)))"
   ]
  },
  {
   "cell_type": "code",
   "execution_count": 39,
   "id": "7cc271fd",
   "metadata": {},
   "outputs": [
    {
     "data": {
      "text/plain": [
       "Text(0, 0.5, 'Count')"
      ]
     },
     "execution_count": 39,
     "metadata": {},
     "output_type": "execute_result"
    },
    {
     "data": {
      "image/png": "[encoded data removed]",
      "text/plain": [
       "<Figure size 576x288 with 1 Axes>"
      ]
     },
     "metadata": {},
     "output_type": "display_data"
    }
   ],
   "source": [
    "beforeSmplg = {}\n",
    "for key, value in Counter(y).items():\n",
    "    beforeSmplg[key] = value\n",
    "\n",
    "    \n",
    "category, count = zip(*beforeSmplg.items())\n",
    "plt.figure(figsize=(8,4))\n",
    "plt.bar(category, count)\n",
    "plt.title('Imbalanced Data Distribution')\n",
    "plt.xlabel('Owner')\n",
    "plt.ylabel('Count')"
   ]
  },
  {
   "cell_type": "markdown",
   "id": "0ac76134",
   "metadata": {},
   "source": [
    "* Class 0: EAM & MRO Inventory Support\n",
    "* Class 1: HRIS Team                \n",
    "* Class 2: IT Service Desk Team \n",
    "* Class 3: Network Team\n",
    "* Class 4: OTM Support\n",
    "* Class 5: Planning Support\n",
    "* Class 6: System Admin Team\n",
    "* Class 7: WMS Team\n",
    "<br><br>\n",
    "We see the exact distribution of Owner. This provides a clearer idea of how we should work on balancing our target variable. Of course majority class is Class 2. "
   ]
  },
  {
   "cell_type": "markdown",
   "id": "9b2390ea",
   "metadata": {},
   "source": [
    "### Sampling Strategy"
   ]
  },
  {
   "cell_type": "code",
   "execution_count": 40,
   "id": "b05800e3",
   "metadata": {},
   "outputs": [],
   "source": [
    "#define undersampling\n",
    "sampling_strategy_under = {2: 25000, 0:15000}\n",
    "#define oversampling\n",
    "sampling_strategy_over = {4: 12000, 6:12000, 7:10000, 5: 10000, 3:8500, 1:8500}\n",
    "\n",
    "over = RandomOverSampler(sampling_strategy=sampling_strategy_over)\n",
    "under = RandomUnderSampler(sampling_strategy=sampling_strategy_under)\n",
    "\n",
    "X = X.reshape(-1, 1)"
   ]
  },
  {
   "cell_type": "code",
   "execution_count": 41,
   "id": "a20ce727",
   "metadata": {},
   "outputs": [],
   "source": [
    "#Undersampling\n",
    "X_under, y_over = under.fit_resample(X, y)\n",
    "\n",
    "#Oversampling\n",
    "X_final, y_final = over.fit_resample(X_under, y_over)"
   ]
  },
  {
   "cell_type": "code",
   "execution_count": 42,
   "id": "5e227f6c",
   "metadata": {
    "scrolled": true
   },
   "outputs": [
    {
     "name": "stdout",
     "output_type": "stream",
     "text": [
      "Class=0, n=15000 (14.851%)\n",
      "Class=1, n=8500 (8.416%)\n",
      "Class=2, n=25000 (24.752%)\n",
      "Class=3, n=8500 (8.416%)\n",
      "Class=4, n=12000 (11.881%)\n",
      "Class=5, n=10000 (9.901%)\n",
      "Class=6, n=12000 (11.881%)\n",
      "Class=7, n=10000 (9.901%)\n",
      "\n",
      "\n",
      "After Under/Over Sampling: Counter({2: 25000, 0: 15000, 4: 12000, 6: 12000, 5: 10000, 7: 10000, 1: 8500, 3: 8500})\n"
     ]
    }
   ],
   "source": [
    "#label and encode the target varibale\n",
    "y_final = LabelEncoder().fit_transform(y_final)\n",
    "#Summarize the distribution of target variable\n",
    "counter = Counter(y_final)\n",
    "for key, value in counter.items():\n",
    "    per = value / len(y_final) * 100 \n",
    "    print('Class=%d, n=%d (%.3f%%)' % (key, value, per))\n",
    "print('\\n')\n",
    "print('After Under/Over Sampling: ' + str(Counter(y_final)))"
   ]
  },
  {
   "cell_type": "code",
   "execution_count": 43,
   "id": "aa0432a6",
   "metadata": {},
   "outputs": [
    {
     "data": {
      "text/plain": [
       "Text(0, 0.5, 'Count')"
      ]
     },
     "execution_count": 43,
     "metadata": {},
     "output_type": "execute_result"
    },
    {
     "data": {
      "image/png": "[encoded data removed]",
      "text/plain": [
       "<Figure size 576x360 with 1 Axes>"
      ]
     },
     "metadata": {},
     "output_type": "display_data"
    }
   ],
   "source": [
    "afterSmplg = {}\n",
    "for key, value in Counter(y_final).items():\n",
    "    afterSmplg[key] = value\n",
    "\n",
    "category, count = zip(*afterSmplg.items())\n",
    "plt.figure(figsize=(8,5))\n",
    "plt.bar(category, count)\n",
    "plt.title('Balanced Data Distribution')\n",
    "plt.xlabel('Owner')\n",
    "plt.ylabel('Count')"
   ]
  },
  {
   "cell_type": "markdown",
   "id": "075ee237",
   "metadata": {},
   "source": [
    "As we can see from our resampling combination of undersampling and oversampling, the classes for Owner are much more even, which will aid us in our modeling."
   ]
  },
  {
   "cell_type": "markdown",
   "id": "a0f14a29",
   "metadata": {},
   "source": [
    "## Model Selection "
   ]
  },
  {
   "cell_type": "code",
   "execution_count": 44,
   "id": "f365da32",
   "metadata": {},
   "outputs": [],
   "source": [
    "#reshape array in order to use \n",
    "X_final = X_final.ravel()"
   ]
  },
  {
   "cell_type": "code",
   "execution_count": 45,
   "id": "e01ff473",
   "metadata": {},
   "outputs": [],
   "source": [
    "#split data into train, valid sets\n",
    "train_X, valid_X, train_y, valid_y= train_test_split(X_final, y_final, random_state = 42, test_size=0.2)"
   ]
  },
  {
   "cell_type": "code",
   "execution_count": 46,
   "id": "9a3e4e89",
   "metadata": {},
   "outputs": [],
   "source": [
    "stop_words=nltk.corpus.stopwords.words('english')"
   ]
  },
  {
   "cell_type": "code",
   "execution_count": 47,
   "id": "8e226411",
   "metadata": {},
   "outputs": [
    {
     "name": "stdout",
     "output_type": "stream",
     "text": [
      "LR: 0.879604 (0.001785)\n",
      "KNN: 0.781455 (0.002428)\n",
      "CART: 0.858931 (0.001999)\n",
      "GBT: 0.793822 (0.002825)\n"
     ]
    },
    {
     "data": {
      "text/plain": [
       "Text(0.5, 1.0, 'Model Evaluation')"
      ]
     },
     "execution_count": 47,
     "metadata": {},
     "output_type": "execute_result"
    },
    {
     "data": {
      "image/png": "[encoded data removed]",
      "text/plain": [
       "<Figure size 720x576 with 1 Axes>"
      ]
     },
     "metadata": {},
     "output_type": "display_data"
    }
   ],
   "source": [
    "#append the models we are evaluating with no parameters for base performance\n",
    "models = []\n",
    "models.append(('LR', LogisticRegression(max_iter=1000,solver='liblinear')))\n",
    "models.append(('KNN', KNeighborsClassifier()))\n",
    "models.append(('CART', DecisionTreeClassifier()))\n",
    "models.append(('GBT', GradientBoostingClassifier()))\n",
    "\n",
    "results = []\n",
    "names = []\n",
    "scoring = 'recall_weighted'\n",
    "\n",
    "#text vectorizer and transformation\n",
    "ctv = CountVectorizer(max_features=12500, max_df=0.85, stop_words=stopwords.words('english'), ngram_range=(1,2))\n",
    "tfidf = TfidfTransformer()\n",
    "\n",
    "#run cross evaluation for each model using kfold\n",
    "for name, model in models:\n",
    "    checker_pipeline = make_pipeline(ctv, tfidf, model)\n",
    "    \n",
    "    kfold = model_selection.KFold(n_splits=5, random_state=42, shuffle=True)\n",
    "    cv_results = model_selection.cross_val_score(checker_pipeline, X_final, y_final, cv=kfold, scoring=scoring)\n",
    "    results.append(cv_results) #add results to list which will be displayed for each model\n",
    "    names.append(name)\n",
    "    msg = \"%s: %f (%f)\" % (name, cv_results.mean(), cv_results.std()) #format message\n",
    "    print(msg)\n",
    "\n",
    "\n",
    "plt.figure(figsize=(10, 8))\n",
    "plt.boxplot(results)\n",
    "plt.xlabel('Models')\n",
    "plt.ylabel('Recall Score')\n",
    "labels = names\n",
    "labels_num = [1,2,3, 4]\n",
    "plt.xticks(labels_num, labels)\n",
    "plt.title('Model Evaluation')"
   ]
  },
  {
   "cell_type": "markdown",
   "id": "9ea8e901",
   "metadata": {},
   "source": [
    "Our model evaluation results indicate that logistic regression is the highest base performing algorithm with Classification Regression Trees not too far behind. We will choose Logisitc Regression for further analysis. In the following cells before actual implementation, we will work to tune the parameters for Logistic Regression in order to optimize its performance. The score for recall is already relatively high, which makes our predictive modeling for multiclass classification very promising."
   ]
  },
  {
   "cell_type": "markdown",
   "id": "c15039ea",
   "metadata": {},
   "source": [
    "## Logistic Regression Evaluation"
   ]
  },
  {
   "cell_type": "code",
   "execution_count": 81,
   "id": "3542927c",
   "metadata": {},
   "outputs": [
    {
     "name": "stdout",
     "output_type": "stream",
     "text": [
      "              precision    recall  f1-score   support\n",
      "\n",
      "           0       0.96      0.95      0.96      3015\n",
      "           1       0.89      0.97      0.93      1696\n",
      "           2       0.88      0.73      0.80      5047\n",
      "           3       0.78      0.90      0.84      1763\n",
      "           4       0.92      0.94      0.93      2336\n",
      "           5       0.96      0.96      0.96      1995\n",
      "           6       0.76      0.86      0.81      2394\n",
      "           7       0.83      0.87      0.85      1954\n",
      "\n",
      "    accuracy                           0.87     20200\n",
      "   macro avg       0.87      0.90      0.88     20200\n",
      "weighted avg       0.88      0.87      0.87     20200\n",
      "\n",
      "Micro Average Recall Score: 0.875\n"
     ]
    }
   ],
   "source": [
    "#evaluate logistic regression to see confusion matrix\n",
    "logreg = Pipeline([('vect', CountVectorizer(max_features=12500, \n",
    "                                            stop_words=stopwords.words('english'), ngram_range=(1,2))),\n",
    "                ('tfidf', TfidfTransformer()),\n",
    "                ('clf', LogisticRegression(max_iter=1000, class_weight='balanced')),\n",
    "               ])\n",
    "logreg.fit(train_X, train_y)\n",
    "pred_y = logreg.predict(valid_X)\n",
    "print(classification_report(valid_y, pred_y))\n",
    "cm=confusion_matrix(valid_y, pred_y)\n",
    "\n",
    "rc_micro = (recall_score(valid_y, pred_y, average=\"micro\"))\n",
    "print('Micro Average Recall Score: {0:.3g}'.format(rc_micro))"
   ]
  },
  {
   "cell_type": "markdown",
   "id": "23eb2bd0",
   "metadata": {},
   "source": [
    "Looking at the micro average recall score for our modeling, .88 is very good. We use micro average because it will aggregate the contributions of all classes to compute the average metric. In a multi-class classification setup, micro-average is preferable in a class imbalance problem. The only concern we have suprisingly is the lowest score for the majority class for IT Service Desk Team. We will try to optimize our score by conducting grid search. "
   ]
  },
  {
   "cell_type": "markdown",
   "id": "f9f92f5a",
   "metadata": {},
   "source": [
    "## Grid Search"
   ]
  },
  {
   "cell_type": "markdown",
   "id": "20cde98a",
   "metadata": {},
   "source": [
    "### Text Vectorizer Grid Search"
   ]
  },
  {
   "cell_type": "code",
   "execution_count": 107,
   "id": "91089a55",
   "metadata": {},
   "outputs": [
    {
     "name": "stdout",
     "output_type": "stream",
     "text": [
      "dict_keys(['memory', 'steps', 'verbose', 'vect', 'tfidf', 'clf', 'vect__analyzer', 'vect__binary', 'vect__decode_error', 'vect__dtype', 'vect__encoding', 'vect__input', 'vect__lowercase', 'vect__max_df', 'vect__max_features', 'vect__min_df', 'vect__ngram_range', 'vect__preprocessor', 'vect__stop_words', 'vect__strip_accents', 'vect__token_pattern', 'vect__tokenizer', 'vect__vocabulary', 'tfidf__norm', 'tfidf__smooth_idf', 'tfidf__sublinear_tf', 'tfidf__use_idf', 'clf__C', 'clf__class_weight', 'clf__dual', 'clf__fit_intercept', 'clf__intercept_scaling', 'clf__l1_ratio', 'clf__max_iter', 'clf__multi_class', 'clf__n_jobs', 'clf__penalty', 'clf__random_state', 'clf__solver', 'clf__tol', 'clf__verbose', 'clf__warm_start'])\n"
     ]
    }
   ],
   "source": [
    "text_vect = Pipeline([('vect', CountVectorizer(max_features=6500, \n",
    "                                            stop_words=stopwords.words('english'), ngram_range=(1,2))),\n",
    "                ('tfidf', TfidfTransformer()),\n",
    "                ('clf', LogisticRegression(max_iter=1000, class_weight='balanced')),\n",
    "               ])\n",
    "print(text_vect.get_params().keys())"
   ]
  },
  {
   "cell_type": "code",
   "execution_count": 108,
   "id": "ec0254c0",
   "metadata": {},
   "outputs": [],
   "source": [
    "grid_values_vect = {'vect__min_df': [2,3,4] ,'vect__max_df':[.75, .85, .90, .95]}\n",
    "grid_clf_acc_vect = GridSearchCV(text_vect, param_grid = grid_values_vect,scoring = 'recall_micro')"
   ]
  },
  {
   "cell_type": "code",
   "execution_count": 109,
   "id": "b4d4b32c",
   "metadata": {},
   "outputs": [],
   "source": [
    "results_vect = grid_clf_acc_vect.fit(train_X, train_y)"
   ]
  },
  {
   "cell_type": "code",
   "execution_count": 110,
   "id": "6404789e",
   "metadata": {},
   "outputs": [
    {
     "name": "stdout",
     "output_type": "stream",
     "text": [
      "Best Score from Grid Search: 0.87\n",
      "Best Hyperparameters: {'vect__max_df': 0.75, 'vect__min_df': 2}\n",
      "Best Hyperparameters: Pipeline(steps=[('vect',\n",
      "                 CountVectorizer(max_df=0.75, max_features=6500, min_df=2,\n",
      "                                 ngram_range=(1, 2),\n",
      "                                 stop_words=['i', 'me', 'my', 'myself', 'we',\n",
      "                                             'our', 'ours', 'ourselves', 'you',\n",
      "                                             \"you're\", \"you've\", \"you'll\",\n",
      "                                             \"you'd\", 'your', 'yours',\n",
      "                                             'yourself', 'yourselves', 'he',\n",
      "                                             'him', 'his', 'himself', 'she',\n",
      "                                             \"she's\", 'her', 'hers', 'herself',\n",
      "                                             'it', \"it's\", 'its', 'itself', ...])),\n",
      "                ('tfidf', TfidfTransformer()),\n",
      "                ('clf',\n",
      "                 LogisticRegression(class_weight='balanced', max_iter=1000))])\n"
     ]
    }
   ],
   "source": [
    "#print('Best Score: %s' % results.best_score_)\n",
    "best_gs_score = results_vect.best_score_\n",
    "print('Best Score from Grid Search: {0:.2f}'.format(best_gs_score))\n",
    "print('Best Hyperparameters: %s' % results_vect.best_params_)\n",
    "print('Best Hyperparameters: %s' % results_vect.best_estimator_)"
   ]
  },
  {
   "cell_type": "markdown",
   "id": "ad68847a",
   "metadata": {},
   "source": [
    "We have defined a search space as a grid of hyperparameter values and evaluate every position in the grid.\n",
    "Grid search is great for spot-checking combinations that are known to perform well generally. We first evaluate the hyperparameters for Count Vectorizer, which is used to convert text as a vector representation in order for the models to understand the text. "
   ]
  },
  {
   "cell_type": "markdown",
   "id": "05078b8b",
   "metadata": {},
   "source": [
    "### Logistic Regression Grid Search"
   ]
  },
  {
   "cell_type": "code",
   "execution_count": 49,
   "id": "dfc14661",
   "metadata": {},
   "outputs": [
    {
     "name": "stdout",
     "output_type": "stream",
     "text": [
      "dict_keys(['memory', 'steps', 'verbose', 'vect', 'tfidf', 'clf', 'vect__analyzer', 'vect__binary', 'vect__decode_error', 'vect__dtype', 'vect__encoding', 'vect__input', 'vect__lowercase', 'vect__max_df', 'vect__max_features', 'vect__min_df', 'vect__ngram_range', 'vect__preprocessor', 'vect__stop_words', 'vect__strip_accents', 'vect__token_pattern', 'vect__tokenizer', 'vect__vocabulary', 'tfidf__norm', 'tfidf__smooth_idf', 'tfidf__sublinear_tf', 'tfidf__use_idf', 'clf__C', 'clf__class_weight', 'clf__dual', 'clf__fit_intercept', 'clf__intercept_scaling', 'clf__l1_ratio', 'clf__max_iter', 'clf__multi_class', 'clf__n_jobs', 'clf__penalty', 'clf__random_state', 'clf__solver', 'clf__tol', 'clf__verbose', 'clf__warm_start'])\n"
     ]
    }
   ],
   "source": [
    "logreg = Pipeline([('vect', CountVectorizer(max_features=6500, \n",
    "                                            stop_words=stopwords.words('english'), ngram_range=(1,2))),\n",
    "                ('tfidf', TfidfTransformer()),\n",
    "                ('clf', LogisticRegression(max_iter=1000, class_weight='balanced')),\n",
    "               ])\n",
    "print(logreg.get_params().keys())"
   ]
  },
  {
   "cell_type": "code",
   "execution_count": 55,
   "id": "46dfda08",
   "metadata": {},
   "outputs": [],
   "source": [
    "grid_values = {'clf__solver': ['liblinear', 'saga', 'lbfgs'] ,'clf__C':[1e-5,1e-3,1e-1, 1, 10], 'clf__penalty': ['l2', 'l1']}\n",
    "grid_clf_acc = GridSearchCV(logreg, param_grid = grid_values,scoring = 'recall_micro')"
   ]
  },
  {
   "cell_type": "code",
   "execution_count": 56,
   "id": "6daded6f",
   "metadata": {},
   "outputs": [
    {
     "name": "stderr",
     "output_type": "stream",
     "text": [
      "C:\\Users\\jlinao\\Anaconda3\\lib\\site-packages\\sklearn\\model_selection\\_validation.py:610: FitFailedWarning: Estimator fit failed. The score on this train-test partition for these parameters will be set to nan. Details: \n",
      "Traceback (most recent call last):\n",
      "  File \"C:\\Users\\jlinao\\Anaconda3\\lib\\site-packages\\sklearn\\model_selection\\_validation.py\", line 593, in _fit_and_score\n",
      "    estimator.fit(X_train, y_train, **fit_params)\n",
      "  File \"C:\\Users\\jlinao\\Anaconda3\\lib\\site-packages\\sklearn\\pipeline.py\", line 346, in fit\n",
      "    self._final_estimator.fit(Xt, y, **fit_params_last_step)\n",
      "  File \"C:\\Users\\jlinao\\Anaconda3\\lib\\site-packages\\sklearn\\linear_model\\_logistic.py\", line 1306, in fit\n",
      "    solver = _check_solver(self.solver, self.penalty, self.dual)\n",
      "  File \"C:\\Users\\jlinao\\Anaconda3\\lib\\site-packages\\sklearn\\linear_model\\_logistic.py\", line 443, in _check_solver\n",
      "    raise ValueError(\"Solver %s supports only 'l2' or 'none' penalties, \"\n",
      "ValueError: Solver lbfgs supports only 'l2' or 'none' penalties, got l1 penalty.\n",
      "\n",
      "  warnings.warn(\"Estimator fit failed. The score on this train-test\"\n",
      "C:\\Users\\jlinao\\Anaconda3\\lib\\site-packages\\sklearn\\model_selection\\_validation.py:610: FitFailedWarning: Estimator fit failed. The score on this train-test partition for these parameters will be set to nan. Details: \n",
      "Traceback (most recent call last):\n",
      "  File \"C:\\Users\\jlinao\\Anaconda3\\lib\\site-packages\\sklearn\\model_selection\\_validation.py\", line 593, in _fit_and_score\n",
      "    estimator.fit(X_train, y_train, **fit_params)\n",
      "  File \"C:\\Users\\jlinao\\Anaconda3\\lib\\site-packages\\sklearn\\pipeline.py\", line 346, in fit\n",
      "    self._final_estimator.fit(Xt, y, **fit_params_last_step)\n",
      "  File \"C:\\Users\\jlinao\\Anaconda3\\lib\\site-packages\\sklearn\\linear_model\\_logistic.py\", line 1306, in fit\n",
      "    solver = _check_solver(self.solver, self.penalty, self.dual)\n",
      "  File \"C:\\Users\\jlinao\\Anaconda3\\lib\\site-packages\\sklearn\\linear_model\\_logistic.py\", line 443, in _check_solver\n",
      "    raise ValueError(\"Solver %s supports only 'l2' or 'none' penalties, \"\n",
      "ValueError: Solver lbfgs supports only 'l2' or 'none' penalties, got l1 penalty.\n",
      "\n",
      "  warnings.warn(\"Estimator fit failed. The score on this train-test\"\n",
      "C:\\Users\\jlinao\\Anaconda3\\lib\\site-packages\\sklearn\\model_selection\\_validation.py:610: FitFailedWarning: Estimator fit failed. The score on this train-test partition for these parameters will be set to nan. Details: \n",
      "Traceback (most recent call last):\n",
      "  File \"C:\\Users\\jlinao\\Anaconda3\\lib\\site-packages\\sklearn\\model_selection\\_validation.py\", line 593, in _fit_and_score\n",
      "    estimator.fit(X_train, y_train, **fit_params)\n",
      "  File \"C:\\Users\\jlinao\\Anaconda3\\lib\\site-packages\\sklearn\\pipeline.py\", line 346, in fit\n",
      "    self._final_estimator.fit(Xt, y, **fit_params_last_step)\n",
      "  File \"C:\\Users\\jlinao\\Anaconda3\\lib\\site-packages\\sklearn\\linear_model\\_logistic.py\", line 1306, in fit\n",
      "    solver = _check_solver(self.solver, self.penalty, self.dual)\n",
      "  File \"C:\\Users\\jlinao\\Anaconda3\\lib\\site-packages\\sklearn\\linear_model\\_logistic.py\", line 443, in _check_solver\n",
      "    raise ValueError(\"Solver %s supports only 'l2' or 'none' penalties, \"\n",
      "ValueError: Solver lbfgs supports only 'l2' or 'none' penalties, got l1 penalty.\n",
      "\n",
      "  warnings.warn(\"Estimator fit failed. The score on this train-test\"\n",
      "C:\\Users\\jlinao\\Anaconda3\\lib\\site-packages\\sklearn\\model_selection\\_validation.py:610: FitFailedWarning: Estimator fit failed. The score on this train-test partition for these parameters will be set to nan. Details: \n",
      "Traceback (most recent call last):\n",
      "  File \"C:\\Users\\jlinao\\Anaconda3\\lib\\site-packages\\sklearn\\model_selection\\_validation.py\", line 593, in _fit_and_score\n",
      "    estimator.fit(X_train, y_train, **fit_params)\n",
      "  File \"C:\\Users\\jlinao\\Anaconda3\\lib\\site-packages\\sklearn\\pipeline.py\", line 346, in fit\n",
      "    self._final_estimator.fit(Xt, y, **fit_params_last_step)\n",
      "  File \"C:\\Users\\jlinao\\Anaconda3\\lib\\site-packages\\sklearn\\linear_model\\_logistic.py\", line 1306, in fit\n",
      "    solver = _check_solver(self.solver, self.penalty, self.dual)\n",
      "  File \"C:\\Users\\jlinao\\Anaconda3\\lib\\site-packages\\sklearn\\linear_model\\_logistic.py\", line 443, in _check_solver\n",
      "    raise ValueError(\"Solver %s supports only 'l2' or 'none' penalties, \"\n",
      "ValueError: Solver lbfgs supports only 'l2' or 'none' penalties, got l1 penalty.\n",
      "\n",
      "  warnings.warn(\"Estimator fit failed. The score on this train-test\"\n",
      "C:\\Users\\jlinao\\Anaconda3\\lib\\site-packages\\sklearn\\model_selection\\_validation.py:610: FitFailedWarning: Estimator fit failed. The score on this train-test partition for these parameters will be set to nan. Details: \n",
      "Traceback (most recent call last):\n",
      "  File \"C:\\Users\\jlinao\\Anaconda3\\lib\\site-packages\\sklearn\\model_selection\\_validation.py\", line 593, in _fit_and_score\n",
      "    estimator.fit(X_train, y_train, **fit_params)\n",
      "  File \"C:\\Users\\jlinao\\Anaconda3\\lib\\site-packages\\sklearn\\pipeline.py\", line 346, in fit\n",
      "    self._final_estimator.fit(Xt, y, **fit_params_last_step)\n",
      "  File \"C:\\Users\\jlinao\\Anaconda3\\lib\\site-packages\\sklearn\\linear_model\\_logistic.py\", line 1306, in fit\n",
      "    solver = _check_solver(self.solver, self.penalty, self.dual)\n",
      "  File \"C:\\Users\\jlinao\\Anaconda3\\lib\\site-packages\\sklearn\\linear_model\\_logistic.py\", line 443, in _check_solver\n",
      "    raise ValueError(\"Solver %s supports only 'l2' or 'none' penalties, \"\n",
      "ValueError: Solver lbfgs supports only 'l2' or 'none' penalties, got l1 penalty.\n",
      "\n",
      "  warnings.warn(\"Estimator fit failed. The score on this train-test\"\n",
      "C:\\Users\\jlinao\\Anaconda3\\lib\\site-packages\\sklearn\\model_selection\\_validation.py:610: FitFailedWarning: Estimator fit failed. The score on this train-test partition for these parameters will be set to nan. Details: \n",
      "Traceback (most recent call last):\n",
      "  File \"C:\\Users\\jlinao\\Anaconda3\\lib\\site-packages\\sklearn\\model_selection\\_validation.py\", line 593, in _fit_and_score\n",
      "    estimator.fit(X_train, y_train, **fit_params)\n",
      "  File \"C:\\Users\\jlinao\\Anaconda3\\lib\\site-packages\\sklearn\\pipeline.py\", line 346, in fit\n",
      "    self._final_estimator.fit(Xt, y, **fit_params_last_step)\n",
      "  File \"C:\\Users\\jlinao\\Anaconda3\\lib\\site-packages\\sklearn\\linear_model\\_logistic.py\", line 1306, in fit\n",
      "    solver = _check_solver(self.solver, self.penalty, self.dual)\n",
      "  File \"C:\\Users\\jlinao\\Anaconda3\\lib\\site-packages\\sklearn\\linear_model\\_logistic.py\", line 443, in _check_solver\n",
      "    raise ValueError(\"Solver %s supports only 'l2' or 'none' penalties, \"\n",
      "ValueError: Solver lbfgs supports only 'l2' or 'none' penalties, got l1 penalty.\n",
      "\n",
      "  warnings.warn(\"Estimator fit failed. The score on this train-test\"\n",
      "C:\\Users\\jlinao\\Anaconda3\\lib\\site-packages\\sklearn\\model_selection\\_validation.py:610: FitFailedWarning: Estimator fit failed. The score on this train-test partition for these parameters will be set to nan. Details: \n",
      "Traceback (most recent call last):\n",
      "  File \"C:\\Users\\jlinao\\Anaconda3\\lib\\site-packages\\sklearn\\model_selection\\_validation.py\", line 593, in _fit_and_score\n",
      "    estimator.fit(X_train, y_train, **fit_params)\n",
      "  File \"C:\\Users\\jlinao\\Anaconda3\\lib\\site-packages\\sklearn\\pipeline.py\", line 346, in fit\n",
      "    self._final_estimator.fit(Xt, y, **fit_params_last_step)\n",
      "  File \"C:\\Users\\jlinao\\Anaconda3\\lib\\site-packages\\sklearn\\linear_model\\_logistic.py\", line 1306, in fit\n",
      "    solver = _check_solver(self.solver, self.penalty, self.dual)\n",
      "  File \"C:\\Users\\jlinao\\Anaconda3\\lib\\site-packages\\sklearn\\linear_model\\_logistic.py\", line 443, in _check_solver\n",
      "    raise ValueError(\"Solver %s supports only 'l2' or 'none' penalties, \"\n",
      "ValueError: Solver lbfgs supports only 'l2' or 'none' penalties, got l1 penalty.\n",
      "\n",
      "  warnings.warn(\"Estimator fit failed. The score on this train-test\"\n",
      "C:\\Users\\jlinao\\Anaconda3\\lib\\site-packages\\sklearn\\model_selection\\_validation.py:610: FitFailedWarning: Estimator fit failed. The score on this train-test partition for these parameters will be set to nan. Details: \n",
      "Traceback (most recent call last):\n",
      "  File \"C:\\Users\\jlinao\\Anaconda3\\lib\\site-packages\\sklearn\\model_selection\\_validation.py\", line 593, in _fit_and_score\n",
      "    estimator.fit(X_train, y_train, **fit_params)\n",
      "  File \"C:\\Users\\jlinao\\Anaconda3\\lib\\site-packages\\sklearn\\pipeline.py\", line 346, in fit\n",
      "    self._final_estimator.fit(Xt, y, **fit_params_last_step)\n",
      "  File \"C:\\Users\\jlinao\\Anaconda3\\lib\\site-packages\\sklearn\\linear_model\\_logistic.py\", line 1306, in fit\n",
      "    solver = _check_solver(self.solver, self.penalty, self.dual)\n",
      "  File \"C:\\Users\\jlinao\\Anaconda3\\lib\\site-packages\\sklearn\\linear_model\\_logistic.py\", line 443, in _check_solver\n",
      "    raise ValueError(\"Solver %s supports only 'l2' or 'none' penalties, \"\n",
      "ValueError: Solver lbfgs supports only 'l2' or 'none' penalties, got l1 penalty.\n",
      "\n",
      "  warnings.warn(\"Estimator fit failed. The score on this train-test\"\n"
     ]
    },
    {
     "name": "stderr",
     "output_type": "stream",
     "text": [
      "C:\\Users\\jlinao\\Anaconda3\\lib\\site-packages\\sklearn\\model_selection\\_validation.py:610: FitFailedWarning: Estimator fit failed. The score on this train-test partition for these parameters will be set to nan. Details: \n",
      "Traceback (most recent call last):\n",
      "  File \"C:\\Users\\jlinao\\Anaconda3\\lib\\site-packages\\sklearn\\model_selection\\_validation.py\", line 593, in _fit_and_score\n",
      "    estimator.fit(X_train, y_train, **fit_params)\n",
      "  File \"C:\\Users\\jlinao\\Anaconda3\\lib\\site-packages\\sklearn\\pipeline.py\", line 346, in fit\n",
      "    self._final_estimator.fit(Xt, y, **fit_params_last_step)\n",
      "  File \"C:\\Users\\jlinao\\Anaconda3\\lib\\site-packages\\sklearn\\linear_model\\_logistic.py\", line 1306, in fit\n",
      "    solver = _check_solver(self.solver, self.penalty, self.dual)\n",
      "  File \"C:\\Users\\jlinao\\Anaconda3\\lib\\site-packages\\sklearn\\linear_model\\_logistic.py\", line 443, in _check_solver\n",
      "    raise ValueError(\"Solver %s supports only 'l2' or 'none' penalties, \"\n",
      "ValueError: Solver lbfgs supports only 'l2' or 'none' penalties, got l1 penalty.\n",
      "\n",
      "  warnings.warn(\"Estimator fit failed. The score on this train-test\"\n",
      "C:\\Users\\jlinao\\Anaconda3\\lib\\site-packages\\sklearn\\model_selection\\_validation.py:610: FitFailedWarning: Estimator fit failed. The score on this train-test partition for these parameters will be set to nan. Details: \n",
      "Traceback (most recent call last):\n",
      "  File \"C:\\Users\\jlinao\\Anaconda3\\lib\\site-packages\\sklearn\\model_selection\\_validation.py\", line 593, in _fit_and_score\n",
      "    estimator.fit(X_train, y_train, **fit_params)\n",
      "  File \"C:\\Users\\jlinao\\Anaconda3\\lib\\site-packages\\sklearn\\pipeline.py\", line 346, in fit\n",
      "    self._final_estimator.fit(Xt, y, **fit_params_last_step)\n",
      "  File \"C:\\Users\\jlinao\\Anaconda3\\lib\\site-packages\\sklearn\\linear_model\\_logistic.py\", line 1306, in fit\n",
      "    solver = _check_solver(self.solver, self.penalty, self.dual)\n",
      "  File \"C:\\Users\\jlinao\\Anaconda3\\lib\\site-packages\\sklearn\\linear_model\\_logistic.py\", line 443, in _check_solver\n",
      "    raise ValueError(\"Solver %s supports only 'l2' or 'none' penalties, \"\n",
      "ValueError: Solver lbfgs supports only 'l2' or 'none' penalties, got l1 penalty.\n",
      "\n",
      "  warnings.warn(\"Estimator fit failed. The score on this train-test\"\n",
      "C:\\Users\\jlinao\\Anaconda3\\lib\\site-packages\\sklearn\\model_selection\\_validation.py:610: FitFailedWarning: Estimator fit failed. The score on this train-test partition for these parameters will be set to nan. Details: \n",
      "Traceback (most recent call last):\n",
      "  File \"C:\\Users\\jlinao\\Anaconda3\\lib\\site-packages\\sklearn\\model_selection\\_validation.py\", line 593, in _fit_and_score\n",
      "    estimator.fit(X_train, y_train, **fit_params)\n",
      "  File \"C:\\Users\\jlinao\\Anaconda3\\lib\\site-packages\\sklearn\\pipeline.py\", line 346, in fit\n",
      "    self._final_estimator.fit(Xt, y, **fit_params_last_step)\n",
      "  File \"C:\\Users\\jlinao\\Anaconda3\\lib\\site-packages\\sklearn\\linear_model\\_logistic.py\", line 1306, in fit\n",
      "    solver = _check_solver(self.solver, self.penalty, self.dual)\n",
      "  File \"C:\\Users\\jlinao\\Anaconda3\\lib\\site-packages\\sklearn\\linear_model\\_logistic.py\", line 443, in _check_solver\n",
      "    raise ValueError(\"Solver %s supports only 'l2' or 'none' penalties, \"\n",
      "ValueError: Solver lbfgs supports only 'l2' or 'none' penalties, got l1 penalty.\n",
      "\n",
      "  warnings.warn(\"Estimator fit failed. The score on this train-test\"\n",
      "C:\\Users\\jlinao\\Anaconda3\\lib\\site-packages\\sklearn\\model_selection\\_validation.py:610: FitFailedWarning: Estimator fit failed. The score on this train-test partition for these parameters will be set to nan. Details: \n",
      "Traceback (most recent call last):\n",
      "  File \"C:\\Users\\jlinao\\Anaconda3\\lib\\site-packages\\sklearn\\model_selection\\_validation.py\", line 593, in _fit_and_score\n",
      "    estimator.fit(X_train, y_train, **fit_params)\n",
      "  File \"C:\\Users\\jlinao\\Anaconda3\\lib\\site-packages\\sklearn\\pipeline.py\", line 346, in fit\n",
      "    self._final_estimator.fit(Xt, y, **fit_params_last_step)\n",
      "  File \"C:\\Users\\jlinao\\Anaconda3\\lib\\site-packages\\sklearn\\linear_model\\_logistic.py\", line 1306, in fit\n",
      "    solver = _check_solver(self.solver, self.penalty, self.dual)\n",
      "  File \"C:\\Users\\jlinao\\Anaconda3\\lib\\site-packages\\sklearn\\linear_model\\_logistic.py\", line 443, in _check_solver\n",
      "    raise ValueError(\"Solver %s supports only 'l2' or 'none' penalties, \"\n",
      "ValueError: Solver lbfgs supports only 'l2' or 'none' penalties, got l1 penalty.\n",
      "\n",
      "  warnings.warn(\"Estimator fit failed. The score on this train-test\"\n",
      "C:\\Users\\jlinao\\Anaconda3\\lib\\site-packages\\sklearn\\model_selection\\_validation.py:610: FitFailedWarning: Estimator fit failed. The score on this train-test partition for these parameters will be set to nan. Details: \n",
      "Traceback (most recent call last):\n",
      "  File \"C:\\Users\\jlinao\\Anaconda3\\lib\\site-packages\\sklearn\\model_selection\\_validation.py\", line 593, in _fit_and_score\n",
      "    estimator.fit(X_train, y_train, **fit_params)\n",
      "  File \"C:\\Users\\jlinao\\Anaconda3\\lib\\site-packages\\sklearn\\pipeline.py\", line 346, in fit\n",
      "    self._final_estimator.fit(Xt, y, **fit_params_last_step)\n",
      "  File \"C:\\Users\\jlinao\\Anaconda3\\lib\\site-packages\\sklearn\\linear_model\\_logistic.py\", line 1306, in fit\n",
      "    solver = _check_solver(self.solver, self.penalty, self.dual)\n",
      "  File \"C:\\Users\\jlinao\\Anaconda3\\lib\\site-packages\\sklearn\\linear_model\\_logistic.py\", line 443, in _check_solver\n",
      "    raise ValueError(\"Solver %s supports only 'l2' or 'none' penalties, \"\n",
      "ValueError: Solver lbfgs supports only 'l2' or 'none' penalties, got l1 penalty.\n",
      "\n",
      "  warnings.warn(\"Estimator fit failed. The score on this train-test\"\n",
      "C:\\Users\\jlinao\\Anaconda3\\lib\\site-packages\\sklearn\\model_selection\\_validation.py:610: FitFailedWarning: Estimator fit failed. The score on this train-test partition for these parameters will be set to nan. Details: \n",
      "Traceback (most recent call last):\n",
      "  File \"C:\\Users\\jlinao\\Anaconda3\\lib\\site-packages\\sklearn\\model_selection\\_validation.py\", line 593, in _fit_and_score\n",
      "    estimator.fit(X_train, y_train, **fit_params)\n",
      "  File \"C:\\Users\\jlinao\\Anaconda3\\lib\\site-packages\\sklearn\\pipeline.py\", line 346, in fit\n",
      "    self._final_estimator.fit(Xt, y, **fit_params_last_step)\n",
      "  File \"C:\\Users\\jlinao\\Anaconda3\\lib\\site-packages\\sklearn\\linear_model\\_logistic.py\", line 1306, in fit\n",
      "    solver = _check_solver(self.solver, self.penalty, self.dual)\n",
      "  File \"C:\\Users\\jlinao\\Anaconda3\\lib\\site-packages\\sklearn\\linear_model\\_logistic.py\", line 443, in _check_solver\n",
      "    raise ValueError(\"Solver %s supports only 'l2' or 'none' penalties, \"\n",
      "ValueError: Solver lbfgs supports only 'l2' or 'none' penalties, got l1 penalty.\n",
      "\n",
      "  warnings.warn(\"Estimator fit failed. The score on this train-test\"\n",
      "C:\\Users\\jlinao\\Anaconda3\\lib\\site-packages\\sklearn\\model_selection\\_validation.py:610: FitFailedWarning: Estimator fit failed. The score on this train-test partition for these parameters will be set to nan. Details: \n",
      "Traceback (most recent call last):\n",
      "  File \"C:\\Users\\jlinao\\Anaconda3\\lib\\site-packages\\sklearn\\model_selection\\_validation.py\", line 593, in _fit_and_score\n",
      "    estimator.fit(X_train, y_train, **fit_params)\n",
      "  File \"C:\\Users\\jlinao\\Anaconda3\\lib\\site-packages\\sklearn\\pipeline.py\", line 346, in fit\n",
      "    self._final_estimator.fit(Xt, y, **fit_params_last_step)\n",
      "  File \"C:\\Users\\jlinao\\Anaconda3\\lib\\site-packages\\sklearn\\linear_model\\_logistic.py\", line 1306, in fit\n",
      "    solver = _check_solver(self.solver, self.penalty, self.dual)\n",
      "  File \"C:\\Users\\jlinao\\Anaconda3\\lib\\site-packages\\sklearn\\linear_model\\_logistic.py\", line 443, in _check_solver\n",
      "    raise ValueError(\"Solver %s supports only 'l2' or 'none' penalties, \"\n",
      "ValueError: Solver lbfgs supports only 'l2' or 'none' penalties, got l1 penalty.\n",
      "\n",
      "  warnings.warn(\"Estimator fit failed. The score on this train-test\"\n",
      "C:\\Users\\jlinao\\Anaconda3\\lib\\site-packages\\sklearn\\svm\\_base.py:985: ConvergenceWarning: Liblinear failed to converge, increase the number of iterations.\n",
      "  warnings.warn(\"Liblinear failed to converge, increase \"\n",
      "C:\\Users\\jlinao\\Anaconda3\\lib\\site-packages\\sklearn\\svm\\_base.py:985: ConvergenceWarning: Liblinear failed to converge, increase the number of iterations.\n",
      "  warnings.warn(\"Liblinear failed to converge, increase \"\n",
      "C:\\Users\\jlinao\\Anaconda3\\lib\\site-packages\\sklearn\\linear_model\\_sag.py:328: ConvergenceWarning: The max_iter was reached which means the coef_ did not converge\n",
      "  warnings.warn(\"The max_iter was reached which means \"\n"
     ]
    },
    {
     "name": "stderr",
     "output_type": "stream",
     "text": [
      "C:\\Users\\jlinao\\Anaconda3\\lib\\site-packages\\sklearn\\model_selection\\_validation.py:610: FitFailedWarning: Estimator fit failed. The score on this train-test partition for these parameters will be set to nan. Details: \n",
      "Traceback (most recent call last):\n",
      "  File \"C:\\Users\\jlinao\\Anaconda3\\lib\\site-packages\\sklearn\\model_selection\\_validation.py\", line 593, in _fit_and_score\n",
      "    estimator.fit(X_train, y_train, **fit_params)\n",
      "  File \"C:\\Users\\jlinao\\Anaconda3\\lib\\site-packages\\sklearn\\pipeline.py\", line 346, in fit\n",
      "    self._final_estimator.fit(Xt, y, **fit_params_last_step)\n",
      "  File \"C:\\Users\\jlinao\\Anaconda3\\lib\\site-packages\\sklearn\\linear_model\\_logistic.py\", line 1306, in fit\n",
      "    solver = _check_solver(self.solver, self.penalty, self.dual)\n",
      "  File \"C:\\Users\\jlinao\\Anaconda3\\lib\\site-packages\\sklearn\\linear_model\\_logistic.py\", line 443, in _check_solver\n",
      "    raise ValueError(\"Solver %s supports only 'l2' or 'none' penalties, \"\n",
      "ValueError: Solver lbfgs supports only 'l2' or 'none' penalties, got l1 penalty.\n",
      "\n",
      "  warnings.warn(\"Estimator fit failed. The score on this train-test\"\n",
      "C:\\Users\\jlinao\\Anaconda3\\lib\\site-packages\\sklearn\\model_selection\\_validation.py:610: FitFailedWarning: Estimator fit failed. The score on this train-test partition for these parameters will be set to nan. Details: \n",
      "Traceback (most recent call last):\n",
      "  File \"C:\\Users\\jlinao\\Anaconda3\\lib\\site-packages\\sklearn\\model_selection\\_validation.py\", line 593, in _fit_and_score\n",
      "    estimator.fit(X_train, y_train, **fit_params)\n",
      "  File \"C:\\Users\\jlinao\\Anaconda3\\lib\\site-packages\\sklearn\\pipeline.py\", line 346, in fit\n",
      "    self._final_estimator.fit(Xt, y, **fit_params_last_step)\n",
      "  File \"C:\\Users\\jlinao\\Anaconda3\\lib\\site-packages\\sklearn\\linear_model\\_logistic.py\", line 1306, in fit\n",
      "    solver = _check_solver(self.solver, self.penalty, self.dual)\n",
      "  File \"C:\\Users\\jlinao\\Anaconda3\\lib\\site-packages\\sklearn\\linear_model\\_logistic.py\", line 443, in _check_solver\n",
      "    raise ValueError(\"Solver %s supports only 'l2' or 'none' penalties, \"\n",
      "ValueError: Solver lbfgs supports only 'l2' or 'none' penalties, got l1 penalty.\n",
      "\n",
      "  warnings.warn(\"Estimator fit failed. The score on this train-test\"\n",
      "C:\\Users\\jlinao\\Anaconda3\\lib\\site-packages\\sklearn\\model_selection\\_validation.py:610: FitFailedWarning: Estimator fit failed. The score on this train-test partition for these parameters will be set to nan. Details: \n",
      "Traceback (most recent call last):\n",
      "  File \"C:\\Users\\jlinao\\Anaconda3\\lib\\site-packages\\sklearn\\model_selection\\_validation.py\", line 593, in _fit_and_score\n",
      "    estimator.fit(X_train, y_train, **fit_params)\n",
      "  File \"C:\\Users\\jlinao\\Anaconda3\\lib\\site-packages\\sklearn\\pipeline.py\", line 346, in fit\n",
      "    self._final_estimator.fit(Xt, y, **fit_params_last_step)\n",
      "  File \"C:\\Users\\jlinao\\Anaconda3\\lib\\site-packages\\sklearn\\linear_model\\_logistic.py\", line 1306, in fit\n",
      "    solver = _check_solver(self.solver, self.penalty, self.dual)\n",
      "  File \"C:\\Users\\jlinao\\Anaconda3\\lib\\site-packages\\sklearn\\linear_model\\_logistic.py\", line 443, in _check_solver\n",
      "    raise ValueError(\"Solver %s supports only 'l2' or 'none' penalties, \"\n",
      "ValueError: Solver lbfgs supports only 'l2' or 'none' penalties, got l1 penalty.\n",
      "\n",
      "  warnings.warn(\"Estimator fit failed. The score on this train-test\"\n",
      "C:\\Users\\jlinao\\Anaconda3\\lib\\site-packages\\sklearn\\model_selection\\_validation.py:610: FitFailedWarning: Estimator fit failed. The score on this train-test partition for these parameters will be set to nan. Details: \n",
      "Traceback (most recent call last):\n",
      "  File \"C:\\Users\\jlinao\\Anaconda3\\lib\\site-packages\\sklearn\\model_selection\\_validation.py\", line 593, in _fit_and_score\n",
      "    estimator.fit(X_train, y_train, **fit_params)\n",
      "  File \"C:\\Users\\jlinao\\Anaconda3\\lib\\site-packages\\sklearn\\pipeline.py\", line 346, in fit\n",
      "    self._final_estimator.fit(Xt, y, **fit_params_last_step)\n",
      "  File \"C:\\Users\\jlinao\\Anaconda3\\lib\\site-packages\\sklearn\\linear_model\\_logistic.py\", line 1306, in fit\n",
      "    solver = _check_solver(self.solver, self.penalty, self.dual)\n",
      "  File \"C:\\Users\\jlinao\\Anaconda3\\lib\\site-packages\\sklearn\\linear_model\\_logistic.py\", line 443, in _check_solver\n",
      "    raise ValueError(\"Solver %s supports only 'l2' or 'none' penalties, \"\n",
      "ValueError: Solver lbfgs supports only 'l2' or 'none' penalties, got l1 penalty.\n",
      "\n",
      "  warnings.warn(\"Estimator fit failed. The score on this train-test\"\n",
      "C:\\Users\\jlinao\\Anaconda3\\lib\\site-packages\\sklearn\\model_selection\\_validation.py:610: FitFailedWarning: Estimator fit failed. The score on this train-test partition for these parameters will be set to nan. Details: \n",
      "Traceback (most recent call last):\n",
      "  File \"C:\\Users\\jlinao\\Anaconda3\\lib\\site-packages\\sklearn\\model_selection\\_validation.py\", line 593, in _fit_and_score\n",
      "    estimator.fit(X_train, y_train, **fit_params)\n",
      "  File \"C:\\Users\\jlinao\\Anaconda3\\lib\\site-packages\\sklearn\\pipeline.py\", line 346, in fit\n",
      "    self._final_estimator.fit(Xt, y, **fit_params_last_step)\n",
      "  File \"C:\\Users\\jlinao\\Anaconda3\\lib\\site-packages\\sklearn\\linear_model\\_logistic.py\", line 1306, in fit\n",
      "    solver = _check_solver(self.solver, self.penalty, self.dual)\n",
      "  File \"C:\\Users\\jlinao\\Anaconda3\\lib\\site-packages\\sklearn\\linear_model\\_logistic.py\", line 443, in _check_solver\n",
      "    raise ValueError(\"Solver %s supports only 'l2' or 'none' penalties, \"\n",
      "ValueError: Solver lbfgs supports only 'l2' or 'none' penalties, got l1 penalty.\n",
      "\n",
      "  warnings.warn(\"Estimator fit failed. The score on this train-test\"\n",
      "C:\\Users\\jlinao\\Anaconda3\\lib\\site-packages\\sklearn\\linear_model\\_sag.py:328: ConvergenceWarning: The max_iter was reached which means the coef_ did not converge\n",
      "  warnings.warn(\"The max_iter was reached which means \"\n",
      "C:\\Users\\jlinao\\Anaconda3\\lib\\site-packages\\sklearn\\linear_model\\_sag.py:328: ConvergenceWarning: The max_iter was reached which means the coef_ did not converge\n",
      "  warnings.warn(\"The max_iter was reached which means \"\n",
      "C:\\Users\\jlinao\\Anaconda3\\lib\\site-packages\\sklearn\\model_selection\\_validation.py:610: FitFailedWarning: Estimator fit failed. The score on this train-test partition for these parameters will be set to nan. Details: \n",
      "Traceback (most recent call last):\n",
      "  File \"C:\\Users\\jlinao\\Anaconda3\\lib\\site-packages\\sklearn\\model_selection\\_validation.py\", line 593, in _fit_and_score\n",
      "    estimator.fit(X_train, y_train, **fit_params)\n",
      "  File \"C:\\Users\\jlinao\\Anaconda3\\lib\\site-packages\\sklearn\\pipeline.py\", line 346, in fit\n",
      "    self._final_estimator.fit(Xt, y, **fit_params_last_step)\n",
      "  File \"C:\\Users\\jlinao\\Anaconda3\\lib\\site-packages\\sklearn\\linear_model\\_logistic.py\", line 1306, in fit\n",
      "    solver = _check_solver(self.solver, self.penalty, self.dual)\n",
      "  File \"C:\\Users\\jlinao\\Anaconda3\\lib\\site-packages\\sklearn\\linear_model\\_logistic.py\", line 443, in _check_solver\n",
      "    raise ValueError(\"Solver %s supports only 'l2' or 'none' penalties, \"\n",
      "ValueError: Solver lbfgs supports only 'l2' or 'none' penalties, got l1 penalty.\n",
      "\n",
      "  warnings.warn(\"Estimator fit failed. The score on this train-test\"\n",
      "C:\\Users\\jlinao\\Anaconda3\\lib\\site-packages\\sklearn\\model_selection\\_validation.py:610: FitFailedWarning: Estimator fit failed. The score on this train-test partition for these parameters will be set to nan. Details: \n",
      "Traceback (most recent call last):\n",
      "  File \"C:\\Users\\jlinao\\Anaconda3\\lib\\site-packages\\sklearn\\model_selection\\_validation.py\", line 593, in _fit_and_score\n",
      "    estimator.fit(X_train, y_train, **fit_params)\n",
      "  File \"C:\\Users\\jlinao\\Anaconda3\\lib\\site-packages\\sklearn\\pipeline.py\", line 346, in fit\n",
      "    self._final_estimator.fit(Xt, y, **fit_params_last_step)\n",
      "  File \"C:\\Users\\jlinao\\Anaconda3\\lib\\site-packages\\sklearn\\linear_model\\_logistic.py\", line 1306, in fit\n",
      "    solver = _check_solver(self.solver, self.penalty, self.dual)\n",
      "  File \"C:\\Users\\jlinao\\Anaconda3\\lib\\site-packages\\sklearn\\linear_model\\_logistic.py\", line 443, in _check_solver\n",
      "    raise ValueError(\"Solver %s supports only 'l2' or 'none' penalties, \"\n",
      "ValueError: Solver lbfgs supports only 'l2' or 'none' penalties, got l1 penalty.\n",
      "\n",
      "  warnings.warn(\"Estimator fit failed. The score on this train-test\"\n",
      "C:\\Users\\jlinao\\Anaconda3\\lib\\site-packages\\sklearn\\model_selection\\_validation.py:610: FitFailedWarning: Estimator fit failed. The score on this train-test partition for these parameters will be set to nan. Details: \n",
      "Traceback (most recent call last):\n",
      "  File \"C:\\Users\\jlinao\\Anaconda3\\lib\\site-packages\\sklearn\\model_selection\\_validation.py\", line 593, in _fit_and_score\n",
      "    estimator.fit(X_train, y_train, **fit_params)\n",
      "  File \"C:\\Users\\jlinao\\Anaconda3\\lib\\site-packages\\sklearn\\pipeline.py\", line 346, in fit\n",
      "    self._final_estimator.fit(Xt, y, **fit_params_last_step)\n",
      "  File \"C:\\Users\\jlinao\\Anaconda3\\lib\\site-packages\\sklearn\\linear_model\\_logistic.py\", line 1306, in fit\n",
      "    solver = _check_solver(self.solver, self.penalty, self.dual)\n",
      "  File \"C:\\Users\\jlinao\\Anaconda3\\lib\\site-packages\\sklearn\\linear_model\\_logistic.py\", line 443, in _check_solver\n",
      "    raise ValueError(\"Solver %s supports only 'l2' or 'none' penalties, \"\n",
      "ValueError: Solver lbfgs supports only 'l2' or 'none' penalties, got l1 penalty.\n",
      "\n",
      "  warnings.warn(\"Estimator fit failed. The score on this train-test\"\n"
     ]
    },
    {
     "name": "stderr",
     "output_type": "stream",
     "text": [
      "C:\\Users\\jlinao\\Anaconda3\\lib\\site-packages\\sklearn\\model_selection\\_validation.py:610: FitFailedWarning: Estimator fit failed. The score on this train-test partition for these parameters will be set to nan. Details: \n",
      "Traceback (most recent call last):\n",
      "  File \"C:\\Users\\jlinao\\Anaconda3\\lib\\site-packages\\sklearn\\model_selection\\_validation.py\", line 593, in _fit_and_score\n",
      "    estimator.fit(X_train, y_train, **fit_params)\n",
      "  File \"C:\\Users\\jlinao\\Anaconda3\\lib\\site-packages\\sklearn\\pipeline.py\", line 346, in fit\n",
      "    self._final_estimator.fit(Xt, y, **fit_params_last_step)\n",
      "  File \"C:\\Users\\jlinao\\Anaconda3\\lib\\site-packages\\sklearn\\linear_model\\_logistic.py\", line 1306, in fit\n",
      "    solver = _check_solver(self.solver, self.penalty, self.dual)\n",
      "  File \"C:\\Users\\jlinao\\Anaconda3\\lib\\site-packages\\sklearn\\linear_model\\_logistic.py\", line 443, in _check_solver\n",
      "    raise ValueError(\"Solver %s supports only 'l2' or 'none' penalties, \"\n",
      "ValueError: Solver lbfgs supports only 'l2' or 'none' penalties, got l1 penalty.\n",
      "\n",
      "  warnings.warn(\"Estimator fit failed. The score on this train-test\"\n",
      "C:\\Users\\jlinao\\Anaconda3\\lib\\site-packages\\sklearn\\model_selection\\_validation.py:610: FitFailedWarning: Estimator fit failed. The score on this train-test partition for these parameters will be set to nan. Details: \n",
      "Traceback (most recent call last):\n",
      "  File \"C:\\Users\\jlinao\\Anaconda3\\lib\\site-packages\\sklearn\\model_selection\\_validation.py\", line 593, in _fit_and_score\n",
      "    estimator.fit(X_train, y_train, **fit_params)\n",
      "  File \"C:\\Users\\jlinao\\Anaconda3\\lib\\site-packages\\sklearn\\pipeline.py\", line 346, in fit\n",
      "    self._final_estimator.fit(Xt, y, **fit_params_last_step)\n",
      "  File \"C:\\Users\\jlinao\\Anaconda3\\lib\\site-packages\\sklearn\\linear_model\\_logistic.py\", line 1306, in fit\n",
      "    solver = _check_solver(self.solver, self.penalty, self.dual)\n",
      "  File \"C:\\Users\\jlinao\\Anaconda3\\lib\\site-packages\\sklearn\\linear_model\\_logistic.py\", line 443, in _check_solver\n",
      "    raise ValueError(\"Solver %s supports only 'l2' or 'none' penalties, \"\n",
      "ValueError: Solver lbfgs supports only 'l2' or 'none' penalties, got l1 penalty.\n",
      "\n",
      "  warnings.warn(\"Estimator fit failed. The score on this train-test\"\n",
      "C:\\Users\\jlinao\\Anaconda3\\lib\\site-packages\\sklearn\\model_selection\\_search.py:918: UserWarning: One or more of the test scores are non-finite: [0.24694307 0.72639851 0.72595297 0.14832921 0.12660891        nan\n",
      " 0.54318069 0.73725248 0.73726485 0.29735149 0.16              nan\n",
      " 0.84402228 0.84293317 0.84287129 0.81332921 0.80435644        nan\n",
      " 0.87215347 0.86814356 0.86818069 0.86857673 0.86090347        nan\n",
      " 0.87613861 0.86983911 0.86983911 0.87152228 0.86414604        nan]\n",
      "  warnings.warn(\n"
     ]
    }
   ],
   "source": [
    "results = grid_clf_acc.fit(train_X, train_y)"
   ]
  },
  {
   "cell_type": "code",
   "execution_count": 80,
   "id": "c31ee24a",
   "metadata": {},
   "outputs": [
    {
     "name": "stdout",
     "output_type": "stream",
     "text": [
      "Best Score from Grid Search: 0.88\n",
      "Best Hyperparameters: {'clf__C': 10, 'clf__penalty': 'l2', 'clf__solver': 'liblinear'}\n",
      "Best Hyperparameters: Pipeline(steps=[('vect',\n",
      "                 CountVectorizer(max_features=6500, ngram_range=(1, 2),\n",
      "                                 stop_words=['i', 'me', 'my', 'myself', 'we',\n",
      "                                             'our', 'ours', 'ourselves', 'you',\n",
      "                                             \"you're\", \"you've\", \"you'll\",\n",
      "                                             \"you'd\", 'your', 'yours',\n",
      "                                             'yourself', 'yourselves', 'he',\n",
      "                                             'him', 'his', 'himself', 'she',\n",
      "                                             \"she's\", 'her', 'hers', 'herself',\n",
      "                                             'it', \"it's\", 'its', 'itself', ...])),\n",
      "                ('tfidf', TfidfTransformer()),\n",
      "                ('clf',\n",
      "                 LogisticRegression(C=10, class_weight='balanced',\n",
      "                                    max_iter=1000, solver='liblinear'))])\n"
     ]
    }
   ],
   "source": [
    "#print('Best Score: %s' % results.best_score_)\n",
    "best_gs_score = results.best_score_\n",
    "print('Best Score from Grid Search: {0:.2f}'.format(best_gs_score))\n",
    "print('Best Hyperparameters: %s' % results.best_params_)\n",
    "print('Best Hyperparameters: %s' % results.best_estimator_)"
   ]
  },
  {
   "cell_type": "markdown",
   "id": "0c4ce4ca",
   "metadata": {},
   "source": [
    "From our output we see that our results have evaluated and provided the best parameters to use for our logistic regression model. We will use the best parameters in our final model. "
   ]
  },
  {
   "cell_type": "markdown",
   "id": "1a31c2ed",
   "metadata": {},
   "source": [
    "## Final Model"
   ]
  },
  {
   "cell_type": "markdown",
   "id": "7965729b",
   "metadata": {},
   "source": [
    "We will finalize our model by using the hyperparameters we have evaluated to develop the highest performing model. Let's see how our model performs on our existing data by training it on the training set and testing it on our holdout set. After, we will train our model on all our available data. We will then assess its performance on completely new data."
   ]
  },
  {
   "cell_type": "code",
   "execution_count": 408,
   "id": "cb53d4d1",
   "metadata": {},
   "outputs": [],
   "source": [
    "#save our cleaned data in order to use with our web application and future use\n",
    "with open ('X_final.pickle','wb') as f:\n",
    "    pickle.dump (X_final,f)\n",
    "    \n",
    "with open ('y_final.pickle','wb') as f:\n",
    "    pickle.dump (y_final,f)"
   ]
  },
  {
   "cell_type": "code",
   "execution_count": 169,
   "id": "681893ce",
   "metadata": {},
   "outputs": [],
   "source": [
    "model = Pipeline([('tfidf', TfidfVectorizer(max_features=10000, max_df=0.75, min_df=2,\n",
    "                                            stop_words=stopwords.words('english'), ngram_range=(1,2))),\n",
    "                ('clf', LogisticRegression(penalty='l2', solver='liblinear', class_weight='balanced', C=10, random_state=42)),\n",
    "               ])"
   ]
  },
  {
   "cell_type": "code",
   "execution_count": 170,
   "id": "3079bd68",
   "metadata": {},
   "outputs": [
    {
     "name": "stdout",
     "output_type": "stream",
     "text": [
      "              precision    recall  f1-score   support\n",
      "\n",
      "           0       0.95      0.96      0.96      3015\n",
      "           1       0.90      0.96      0.93      1696\n",
      "           2       0.86      0.79      0.82      5047\n",
      "           3       0.82      0.86      0.84      1763\n",
      "           4       0.92      0.94      0.93      2336\n",
      "           5       0.97      0.96      0.96      1995\n",
      "           6       0.80      0.84      0.82      2394\n",
      "           7       0.84      0.86      0.85      1954\n",
      "\n",
      "    accuracy                           0.88     20200\n",
      "   macro avg       0.88      0.90      0.89     20200\n",
      "weighted avg       0.88      0.88      0.88     20200\n",
      "\n",
      "Micro Average Recall Score: 0.88\n"
     ]
    }
   ],
   "source": [
    "model.fit(train_X, train_y)\n",
    "pred_y = model.predict(valid_X)\n",
    "print(classification_report(valid_y, pred_y))\n",
    "cm=confusion_matrix(valid_y, pred_y)\n",
    "\n",
    "rc_micro = (recall_score(valid_y, pred_y, average=\"micro\"))\n",
    "print('Micro Average Recall Score: {0:.2g}'.format(rc_micro))"
   ]
  },
  {
   "cell_type": "markdown",
   "id": "6848aad4",
   "metadata": {},
   "source": [
    "Now that we see that our model with all the tuned hyperparameters result in a well-performing model, we can train this model using all our data. "
   ]
  },
  {
   "cell_type": "code",
   "execution_count": 409,
   "id": "b4708d89",
   "metadata": {},
   "outputs": [
    {
     "data": {
      "text/plain": [
       "Pipeline(steps=[('tfidf',\n",
       "                 TfidfVectorizer(max_df=0.75, max_features=10000, min_df=2,\n",
       "                                 ngram_range=(1, 2),\n",
       "                                 stop_words=['i', 'me', 'my', 'myself', 'we',\n",
       "                                             'our', 'ours', 'ourselves', 'you',\n",
       "                                             \"you're\", \"you've\", \"you'll\",\n",
       "                                             \"you'd\", 'your', 'yours',\n",
       "                                             'yourself', 'yourselves', 'he',\n",
       "                                             'him', 'his', 'himself', 'she',\n",
       "                                             \"she's\", 'her', 'hers', 'herself',\n",
       "                                             'it', \"it's\", 'its', 'itself', ...])),\n",
       "                ('clf',\n",
       "                 LogisticRegression(C=10, class_weight='balanced',\n",
       "                                    random_state=42, solver='liblinear'))])"
      ]
     },
     "execution_count": 409,
     "metadata": {},
     "output_type": "execute_result"
    }
   ],
   "source": [
    "final_model = Pipeline([('tfidf', TfidfVectorizer(max_features=10000, max_df=0.75, min_df=2,\n",
    "                                            stop_words=stopwords.words('english'), ngram_range=(1,2))),\n",
    "                ('clf', LogisticRegression(penalty='l2', solver='liblinear', class_weight='balanced', C=10, random_state=42)),\n",
    "               ])\n",
    "\n",
    "final_model.fit(X_final, y_final)"
   ]
  },
  {
   "cell_type": "markdown",
   "id": "8b75294a",
   "metadata": {},
   "source": [
    "### Final Model Test on New Data"
   ]
  },
  {
   "cell_type": "code",
   "execution_count": 176,
   "id": "68c98dea",
   "metadata": {},
   "outputs": [],
   "source": [
    "with open('X_new.pickle', 'rb') as f: \n",
    "    X_new = pickle.load(f)\n",
    "    \n",
    "with open('y_new.pickle', 'rb') as f: \n",
    "    y_new = pickle.load(f)"
   ]
  },
  {
   "cell_type": "markdown",
   "id": "716b5de1",
   "metadata": {},
   "source": [
    "Using new data that the model has never seen before in order to test our model will show how well our model will actually perform in production, where it will see new data every time it is run. This data was pulled from ChangeGear of this month's (06/21) incidents. Again, we are focusing on the following teams: \n",
    "<br><br>\n",
    "* Class 0: EAM & MRO Inventory Support\n",
    "* Class 1: HRIS Team                \n",
    "* Class 2: IT Service Desk Team \n",
    "* Class 3: Network Team\n",
    "* Class 4: OTM Support\n",
    "* Class 5: Planning Support\n",
    "* Class 6: System Admin Team\n",
    "* Class 7: WMS Team"
   ]
  },
  {
   "cell_type": "code",
   "execution_count": 177,
   "id": "be29015e",
   "metadata": {},
   "outputs": [
    {
     "name": "stdout",
     "output_type": "stream",
     "text": [
      "              precision    recall  f1-score   support\n",
      "\n",
      "           0       0.99      0.94      0.96       222\n",
      "           1       0.91      0.94      0.92       131\n",
      "           2       0.90      0.76      0.82       534\n",
      "           3       0.83      0.93      0.88       163\n",
      "           4       0.13      1.00      0.23         5\n",
      "           5       0.57      1.00      0.73         4\n",
      "           6       0.76      0.84      0.79       231\n",
      "           7       0.63      0.78      0.70        40\n",
      "\n",
      "    accuracy                           0.84      1330\n",
      "   macro avg       0.71      0.90      0.75      1330\n",
      "weighted avg       0.87      0.84      0.85      1330\n",
      "\n",
      "Micro Average Recall Score: 0.843\n"
     ]
    }
   ],
   "source": [
    "pred_y = final_model.predict(X_new)\n",
    "print(classification_report(y_new, pred_y))\n",
    "cm=confusion_matrix(y_new, pred_y)\n",
    "rc_micro = (recall_score(y_new, pred_y, average=\"micro\"))\n",
    "print('Micro Average Recall Score: {0:.3g}'.format(rc_micro))"
   ]
  },
  {
   "cell_type": "code",
   "execution_count": 410,
   "id": "16eb2e0a",
   "metadata": {},
   "outputs": [],
   "source": [
    "#saving classifier\n",
    "with open ('final_model.pickle','wb') as f:#wb, write-byte\n",
    "    pickle.dump (final_model,f)"
   ]
  },
  {
   "cell_type": "code",
   "execution_count": 179,
   "id": "e139ed95",
   "metadata": {},
   "outputs": [],
   "source": [
    "#exporting our final training data to .csv so that we can train in our data in the web application\n",
    "master_training_data = pd.DataFrame({'X':X_final, 'y':y_final})\n",
    "master_training_data.to_csv('master_training_data.csv')"
   ]
  },
  {
   "cell_type": "code",
   "execution_count": 180,
   "id": "20be50fc",
   "metadata": {},
   "outputs": [
    {
     "data": {
      "text/plain": [
       "<AxesSubplot:>"
      ]
     },
     "execution_count": 180,
     "metadata": {},
     "output_type": "execute_result"
    },
    {
     "data": {
      "image/png": "[encoded data removed]",
      "text/plain": [
       "<Figure size 432x288 with 2 Axes>"
      ]
     },
     "metadata": {
      "needs_background": "light"
     },
     "output_type": "display_data"
    }
   ],
   "source": [
    "#confusion matrix heatmap\n",
    "sns.heatmap(cm, annot=True, fmt='g')"
   ]
  },
  {
   "cell_type": "markdown",
   "id": "aa62c3d0",
   "metadata": {},
   "source": [
    "## Applying our Model"
   ]
  },
  {
   "cell_type": "markdown",
   "id": "6100cacf",
   "metadata": {},
   "source": [
    "The following code, serves to illustrate and assess how our model will work in a production environment, where the product is going to be user-facing. "
   ]
  },
  {
   "cell_type": "code",
   "execution_count": 411,
   "id": "b0fd2be8",
   "metadata": {},
   "outputs": [],
   "source": [
    "def normalize_doc(doc):\n",
    "    doc=re.sub(r'[^a-zA-Z\\s]', '', doc) \n",
    "    doc=doc.lower() \n",
    "    doc=doc.strip() \n",
    "    tokens=wpt.tokenize(doc)\n",
    "    filtered_tokens=[token for token in tokens if token not in stop_words]\n",
    "    doc=' '.join(filtered_tokens)\n",
    "    return doc"
   ]
  },
  {
   "cell_type": "code",
   "execution_count": 364,
   "id": "6ae00a99",
   "metadata": {},
   "outputs": [],
   "source": [
    "sample_text = ['SL2 self checkout printer not functioning']"
   ]
  },
  {
   "cell_type": "code",
   "execution_count": 320,
   "id": "e595ab30",
   "metadata": {},
   "outputs": [],
   "source": [
    "#add new clean text to dataframe\n",
    "normalize_corpus=np.vectorize(normalize_doc) #create a vectorized object for our normalization pipeline\n",
    "norm_text=normalize_corpus(sample_text) #clean and normalize the ticket"
   ]
  },
  {
   "cell_type": "code",
   "execution_count": 321,
   "id": "8a3cbcdc",
   "metadata": {},
   "outputs": [
    {
     "data": {
      "text/plain": [
       "array(['zebra printer getting data hardware issue lines chec'],\n",
       "      dtype='<U52')"
      ]
     },
     "execution_count": 321,
     "metadata": {},
     "output_type": "execute_result"
    }
   ],
   "source": [
    "norm_text"
   ]
  },
  {
   "cell_type": "markdown",
   "id": "603b0119",
   "metadata": {},
   "source": [
    "## Final Step - Text Transformation"
   ]
  },
  {
   "cell_type": "code",
   "execution_count": 322,
   "id": "9ca58898",
   "metadata": {},
   "outputs": [],
   "source": [
    "with open ('final_model.pickle','rb') as f:#rb, read-byte\n",
    "    final_model=pickle.load(f)"
   ]
  },
  {
   "cell_type": "code",
   "execution_count": 323,
   "id": "f8a88ac9",
   "metadata": {},
   "outputs": [],
   "source": [
    "#access the steps of our finalized model to apply to a single ticket\n",
    "vect=final_model.named_steps['tfidf']\n",
    "clf=final_model.named_steps['clf']"
   ]
  },
  {
   "cell_type": "code",
   "execution_count": 324,
   "id": "d2fa3676",
   "metadata": {},
   "outputs": [
    {
     "name": "stdout",
     "output_type": "stream",
     "text": [
      "[7]\n"
     ]
    }
   ],
   "source": [
    "trans_text=vect.transform(norm_text).toarray() #apply text extraction using TFIDF \n",
    "print(clf.predict(trans_text)) #apply logistic regression model classifier to text "
   ]
  },
  {
   "cell_type": "markdown",
   "id": "91e4a777",
   "metadata": {},
   "source": [
    "As we can see, the model output a numeric label corresponding to the class or team that the inputted ticket belongs to. It accurately predicted the team, which is the IT Service Desk Team. We can take this a step further and show the probability predictions of belonging to the classes we have. "
   ]
  },
  {
   "cell_type": "code",
   "execution_count": 373,
   "id": "ccf8936d",
   "metadata": {},
   "outputs": [
    {
     "data": {
      "text/plain": [
       "['0.06%', '0.04%', '16.78%', '5.16%', '0.05%', '0.03%', '1.59%', '76.28%']"
      ]
     },
     "execution_count": 373,
     "metadata": {},
     "output_type": "execute_result"
    }
   ],
   "source": [
    "prob_classes=(clf.predict_proba(trans_text))\n",
    "prob_classes=prob_classes[0][:]\n",
    "prob_classes_num = [\"{:.2%}\".format(prob) for prob in prob_classes]\n",
    "prob_classes_num"
   ]
  },
  {
   "cell_type": "markdown",
   "id": "0fc85aa3",
   "metadata": {},
   "source": [
    "We see the probablities of the ticket belonging to each class. The highest probability is what is used in the prediction. Probabilities will serve to be helpful in the case that a ticket's classification is ambiguous. "
   ]
  },
  {
   "cell_type": "markdown",
   "id": "66a88f6d",
   "metadata": {},
   "source": [
    "# Logic for Prediction Output"
   ]
  },
  {
   "cell_type": "markdown",
   "id": "852a8f23",
   "metadata": {},
   "source": [
    "Here we will build out functions and logic for displaying output to the user when using the web application. "
   ]
  },
  {
   "cell_type": "code",
   "execution_count": 412,
   "id": "674a64d3",
   "metadata": {},
   "outputs": [],
   "source": [
    "normalize_corpus=np.vectorize(normalize_doc) #create a vectorized object for our normalization pipeline\n",
    "norm_text=normalize_corpus(sample_text) #clean and normalize the ticket\n",
    "\n",
    "vect=final_model.named_steps['tfidf']\n",
    "clf=final_model.named_steps['clf']\n",
    "\n",
    "trans_text=vect.transform(norm_text).toarray()\n",
    "prediction=clf.predict(trans_text)\n",
    "probabilities=(clf.predict_proba(trans_text))"
   ]
  },
  {
   "cell_type": "code",
   "execution_count": 413,
   "id": "f344d448",
   "metadata": {},
   "outputs": [],
   "source": [
    "def output_prediction(label_prediction):\n",
    "    #identify the class prediction \n",
    "    if label_prediction==0:\n",
    "        owner='EAM & MRO Inventory Support'\n",
    "    elif label_prediction==1:\n",
    "        owner='HRIS Team'\n",
    "    elif label_prediction==2: \n",
    "        owner='IT Service Desk Team'\n",
    "    elif label_prediction==3:\n",
    "        owner='Network Team'\n",
    "    elif label_prediction==4:\n",
    "        owner='OTM Support'\n",
    "    elif label_prediction==5:\n",
    "        owner='Planning Support'\n",
    "    elif label_prediction==6:\n",
    "        owner='System Admin Team'\n",
    "    else:\n",
    "        owner='WMS Team'\n",
    "    return print(owner)"
   ]
  },
  {
   "cell_type": "code",
   "execution_count": 414,
   "id": "59274cf2",
   "metadata": {},
   "outputs": [
    {
     "name": "stdout",
     "output_type": "stream",
     "text": [
      "WMS Team\n"
     ]
    }
   ],
   "source": [
    "output_prediction(prediction)"
   ]
  },
  {
   "cell_type": "code",
   "execution_count": 405,
   "id": "224d88d1",
   "metadata": {},
   "outputs": [],
   "source": [
    "def output_probabilities(array_prob):\n",
    "    prob_classes=array_prob[0][:]\n",
    "    prob_classes_num = [\"{:.2%}\".format(prob) for prob in prob_classes]\n",
    "    \n",
    "    classes = ['EAM & MRO Inventory Support', 'HRIS Team', 'IT Service Desk Team', 'Network Team', 'OTM Support', \n",
    "          'Planning Support', 'System Admin Team', 'WMS Team']\n",
    "    ownerDict = dict(zip(classes, prob_classes_num))\n",
    "    ownerDf = pd.DataFrame(ownerDict.items(), columns=['Owner', 'Probability'])\n",
    "    \n",
    "    return(ownerDf)"
   ]
  },
  {
   "cell_type": "code",
   "execution_count": 415,
   "id": "86ab23d3",
   "metadata": {},
   "outputs": [
    {
     "data": {
      "text/html": [
       "<div>\n",
       "<style scoped>\n",
       "    .dataframe tbody tr th:only-of-type {\n",
       "        vertical-align: middle;\n",
       "    }\n",
       "\n",
       "    .dataframe tbody tr th {\n",
       "        vertical-align: top;\n",
       "    }\n",
       "\n",
       "    .dataframe thead th {\n",
       "        text-align: right;\n",
       "    }\n",
       "</style>\n",
       "<table border=\"1\" class=\"dataframe\">\n",
       "  <thead>\n",
       "    <tr style=\"text-align: right;\">\n",
       "      <th></th>\n",
       "      <th>Owner</th>\n",
       "      <th>Probability</th>\n",
       "    </tr>\n",
       "  </thead>\n",
       "  <tbody>\n",
       "    <tr>\n",
       "      <th>0</th>\n",
       "      <td>EAM &amp; MRO Inventory Support</td>\n",
       "      <td>0.06%</td>\n",
       "    </tr>\n",
       "    <tr>\n",
       "      <th>1</th>\n",
       "      <td>HRIS Team</td>\n",
       "      <td>0.04%</td>\n",
       "    </tr>\n",
       "    <tr>\n",
       "      <th>2</th>\n",
       "      <td>IT Service Desk Team</td>\n",
       "      <td>16.78%</td>\n",
       "    </tr>\n",
       "    <tr>\n",
       "      <th>3</th>\n",
       "      <td>Network Team</td>\n",
       "      <td>5.16%</td>\n",
       "    </tr>\n",
       "    <tr>\n",
       "      <th>4</th>\n",
       "      <td>OTM Support</td>\n",
       "      <td>0.05%</td>\n",
       "    </tr>\n",
       "    <tr>\n",
       "      <th>5</th>\n",
       "      <td>Planning Support</td>\n",
       "      <td>0.03%</td>\n",
       "    </tr>\n",
       "    <tr>\n",
       "      <th>6</th>\n",
       "      <td>System Admin Team</td>\n",
       "      <td>1.59%</td>\n",
       "    </tr>\n",
       "    <tr>\n",
       "      <th>7</th>\n",
       "      <td>WMS Team</td>\n",
       "      <td>76.28%</td>\n",
       "    </tr>\n",
       "  </tbody>\n",
       "</table>\n",
       "</div>"
      ],
      "text/plain": [
       "                         Owner Probability\n",
       "0  EAM & MRO Inventory Support       0.06%\n",
       "1                    HRIS Team       0.04%\n",
       "2         IT Service Desk Team      16.78%\n",
       "3                 Network Team       5.16%\n",
       "4                  OTM Support       0.05%\n",
       "5             Planning Support       0.03%\n",
       "6            System Admin Team       1.59%\n",
       "7                     WMS Team      76.28%"
      ]
     },
     "execution_count": 415,
     "metadata": {},
     "output_type": "execute_result"
    }
   ],
   "source": [
    "output_probabilities(probabilities)"
   ]
  }
 ],
 "metadata": {
  "kernelspec": {
   "display_name": "Python 3",
   "language": "python",
   "name": "python3"
  },
  "language_info": {
   "codemirror_mode": {
    "name": "ipython",
    "version": 3
   },
   "file_extension": ".py",
   "mimetype": "text/x-python",
   "name": "python",
   "nbconvert_exporter": "python",
   "pygments_lexer": "ipython3",
   "version": "3.8.8"
  }
 },
 "nbformat": 4,
 "nbformat_minor": 5
}
